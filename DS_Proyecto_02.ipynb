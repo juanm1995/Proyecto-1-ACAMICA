{
 "cells": [
  {
   "cell_type": "markdown",
   "metadata": {
    "colab_type": "text",
    "id": "oj6gbm-5C4OF"
   },
   "source": [
    "### **PROYECTO 2**\n"
   ]
  },
  {
   "cell_type": "markdown",
   "metadata": {
    "colab_type": "text",
    "id": "LvPBQzg5C4OI"
   },
   "source": [
    "### 1. Pre procesamiento de Datos\n",
    "\n",
    "En esta sección, debes realizar un preprocesamiento de datos para obtener mejores resultados en los modelos:\n",
    "\n",
    "* deteccion y eliminacion de outliers\n",
    "* imputacion de valores faltantes\n",
    "* encoding\n",
    "* escalado de datos\n",
    "* reduccion de dimensionalidad\n",
    "\n",
    "\n"
   ]
  },
  {
   "cell_type": "markdown",
   "metadata": {},
   "source": [
    "## Importar librerias y cargar dataset"
   ]
  },
  {
   "cell_type": "markdown",
   "metadata": {
    "colab_type": "text",
    "id": "K2PLfIvLC4OK"
   },
   "source": [
    "0. Importa las librerías necesarias para trabajar en la consigna."
   ]
  },
  {
   "cell_type": "code",
   "execution_count": 1,
   "metadata": {
    "colab": {},
    "colab_type": "code",
    "id": "fCGVacN5C4OM"
   },
   "outputs": [],
   "source": [
    "#paso 1 : importar librerias y cargar el dataset\n",
    "import pandas as pd\n",
    "import numpy as np\n",
    "import matplotlib.pyplot as plt\n",
    "import seaborn as sns\n",
    "df_properati=pd.read_csv(\"C:/Users/ACER/Anaconda3/envs/ACAMICA/Library/resources/DS_Proyecto_01_Datos_Properati.csv\", sep=\",\")\n"
   ]
  },
  {
   "cell_type": "markdown",
   "metadata": {
    "colab_type": "text",
    "id": "5gWE6fwUC4OY"
   },
   "source": [
    "1. Carga el dataset usando las funcionalidades de Pandas. Imprimir cuántas filas y columnas tiene, y sus cinco primeras instancias."
   ]
  },
  {
   "cell_type": "code",
   "execution_count": 2,
   "metadata": {
    "colab": {},
    "colab_type": "code",
    "id": "YL2eAd_tC4Oa"
   },
   "outputs": [
    {
     "name": "stdout",
     "output_type": "stream",
     "text": [
      "                 lat            lon          rooms       bedrooms  \\\n",
      "count  136735.000000  136701.000000  146660.000000  146660.000000   \n",
      "mean      -34.604896     -58.465304       3.079817       1.983240   \n",
      "std         0.468428       0.486190       1.416352       1.151304   \n",
      "min       -35.318457    -180.000000       1.000000       0.000000   \n",
      "25%       -34.627667     -58.504012       2.000000       1.000000   \n",
      "50%       -34.600943     -58.443262       3.000000       2.000000   \n",
      "75%       -34.574600     -58.407586       4.000000       3.000000   \n",
      "max        85.051129     -57.805832      35.000000      15.000000   \n",
      "\n",
      "           bathrooms  surface_total  surface_covered         price  \n",
      "count  140703.000000  126133.000000    125046.000000  1.466600e+05  \n",
      "mean        1.599994     216.872888       112.818011  2.412211e+05  \n",
      "std         0.889324    2037.606649       916.857584  3.185195e+05  \n",
      "min         1.000000      10.000000         1.000000  5.500000e+03  \n",
      "25%         1.000000      52.000000        47.000000  1.110000e+05  \n",
      "50%         1.000000      78.000000        68.000000  1.660000e+05  \n",
      "75%         2.000000     140.000000       108.000000  2.650000e+05  \n",
      "max        14.000000  193549.000000    126062.000000  3.243423e+07  \n",
      "Numpero de filas:  146660\n",
      "Numpero de columnas:  19\n"
     ]
    },
    {
     "data": {
      "text/html": [
       "<div>\n",
       "<style scoped>\n",
       "    .dataframe tbody tr th:only-of-type {\n",
       "        vertical-align: middle;\n",
       "    }\n",
       "\n",
       "    .dataframe tbody tr th {\n",
       "        vertical-align: top;\n",
       "    }\n",
       "\n",
       "    .dataframe thead th {\n",
       "        text-align: right;\n",
       "    }\n",
       "</style>\n",
       "<table border=\"1\" class=\"dataframe\">\n",
       "  <thead>\n",
       "    <tr style=\"text-align: right;\">\n",
       "      <th></th>\n",
       "      <th>start_date</th>\n",
       "      <th>end_date</th>\n",
       "      <th>created_on</th>\n",
       "      <th>lat</th>\n",
       "      <th>lon</th>\n",
       "      <th>l1</th>\n",
       "      <th>l2</th>\n",
       "      <th>l3</th>\n",
       "      <th>rooms</th>\n",
       "      <th>bedrooms</th>\n",
       "      <th>bathrooms</th>\n",
       "      <th>surface_total</th>\n",
       "      <th>surface_covered</th>\n",
       "      <th>price</th>\n",
       "      <th>currency</th>\n",
       "      <th>title</th>\n",
       "      <th>description</th>\n",
       "      <th>property_type</th>\n",
       "      <th>operation_type</th>\n",
       "    </tr>\n",
       "  </thead>\n",
       "  <tbody>\n",
       "    <tr>\n",
       "      <th>0</th>\n",
       "      <td>2019-10-17</td>\n",
       "      <td>2019-12-23</td>\n",
       "      <td>2019-10-17</td>\n",
       "      <td>-34.605880</td>\n",
       "      <td>-58.384949</td>\n",
       "      <td>Argentina</td>\n",
       "      <td>Capital Federal</td>\n",
       "      <td>San Cristobal</td>\n",
       "      <td>7.0</td>\n",
       "      <td>7.0</td>\n",
       "      <td>2.0</td>\n",
       "      <td>140.0</td>\n",
       "      <td>140.0</td>\n",
       "      <td>153000.0</td>\n",
       "      <td>USD</td>\n",
       "      <td>***Venta semipiso centro, ideal hostel*****</td>\n",
       "      <td>DESCRIPCION DE LA PROPIEDAD: Departamento de 1...</td>\n",
       "      <td>Departamento</td>\n",
       "      <td>Venta</td>\n",
       "    </tr>\n",
       "    <tr>\n",
       "      <th>1</th>\n",
       "      <td>2019-10-17</td>\n",
       "      <td>2019-11-21</td>\n",
       "      <td>2019-10-17</td>\n",
       "      <td>-34.624056</td>\n",
       "      <td>-58.412110</td>\n",
       "      <td>Argentina</td>\n",
       "      <td>Capital Federal</td>\n",
       "      <td>Boedo</td>\n",
       "      <td>2.0</td>\n",
       "      <td>1.0</td>\n",
       "      <td>2.0</td>\n",
       "      <td>70.0</td>\n",
       "      <td>58.0</td>\n",
       "      <td>159000.0</td>\n",
       "      <td>USD</td>\n",
       "      <td>Espectacular PH reciclado en Boedo sin expensas.</td>\n",
       "      <td>PH reciclado en Boedo a una cuadra de la plaz...</td>\n",
       "      <td>PH</td>\n",
       "      <td>Venta</td>\n",
       "    </tr>\n",
       "    <tr>\n",
       "      <th>2</th>\n",
       "      <td>2019-10-17</td>\n",
       "      <td>2019-11-01</td>\n",
       "      <td>2019-10-17</td>\n",
       "      <td>-34.593569</td>\n",
       "      <td>-58.427474</td>\n",
       "      <td>Argentina</td>\n",
       "      <td>Capital Federal</td>\n",
       "      <td>Palermo</td>\n",
       "      <td>2.0</td>\n",
       "      <td>1.0</td>\n",
       "      <td>1.0</td>\n",
       "      <td>45.0</td>\n",
       "      <td>45.0</td>\n",
       "      <td>125000.0</td>\n",
       "      <td>USD</td>\n",
       "      <td>Depto.tipo casa de 2 ambientes en Venta en Pal...</td>\n",
       "      <td>2 ambienets amplio , excelente estado , patio ...</td>\n",
       "      <td>PH</td>\n",
       "      <td>Venta</td>\n",
       "    </tr>\n",
       "    <tr>\n",
       "      <th>3</th>\n",
       "      <td>2019-10-17</td>\n",
       "      <td>2019-12-23</td>\n",
       "      <td>2019-10-17</td>\n",
       "      <td>-34.581294</td>\n",
       "      <td>-58.436754</td>\n",
       "      <td>Argentina</td>\n",
       "      <td>Capital Federal</td>\n",
       "      <td>Palermo</td>\n",
       "      <td>2.0</td>\n",
       "      <td>1.0</td>\n",
       "      <td>1.0</td>\n",
       "      <td>85.0</td>\n",
       "      <td>50.0</td>\n",
       "      <td>295000.0</td>\n",
       "      <td>USD</td>\n",
       "      <td>COSTA RICA 5800 / PALERMO HOLLYWOOD / VENTA PH...</td>\n",
       "      <td>HERMOSO PH EN PALERMO!!!2 AMBIENTES TOTALMENTE...</td>\n",
       "      <td>PH</td>\n",
       "      <td>Venta</td>\n",
       "    </tr>\n",
       "    <tr>\n",
       "      <th>4</th>\n",
       "      <td>2019-10-17</td>\n",
       "      <td>2020-03-11</td>\n",
       "      <td>2019-10-17</td>\n",
       "      <td>-34.914194</td>\n",
       "      <td>-57.938219</td>\n",
       "      <td>Argentina</td>\n",
       "      <td>Bs.As. G.B.A. Zona Sur</td>\n",
       "      <td>La Plata</td>\n",
       "      <td>2.0</td>\n",
       "      <td>1.0</td>\n",
       "      <td>1.0</td>\n",
       "      <td>50.0</td>\n",
       "      <td>35.0</td>\n",
       "      <td>40000.0</td>\n",
       "      <td>USD</td>\n",
       "      <td>58 entre 1 y 2  Venta de departamento en ph.1 ...</td>\n",
       "      <td>58 entre 1 y 2  Venta de departamento en PH. P...</td>\n",
       "      <td>PH</td>\n",
       "      <td>Venta</td>\n",
       "    </tr>\n",
       "  </tbody>\n",
       "</table>\n",
       "</div>"
      ],
      "text/plain": [
       "   start_date    end_date  created_on        lat        lon         l1  \\\n",
       "0  2019-10-17  2019-12-23  2019-10-17 -34.605880 -58.384949  Argentina   \n",
       "1  2019-10-17  2019-11-21  2019-10-17 -34.624056 -58.412110  Argentina   \n",
       "2  2019-10-17  2019-11-01  2019-10-17 -34.593569 -58.427474  Argentina   \n",
       "3  2019-10-17  2019-12-23  2019-10-17 -34.581294 -58.436754  Argentina   \n",
       "4  2019-10-17  2020-03-11  2019-10-17 -34.914194 -57.938219  Argentina   \n",
       "\n",
       "                       l2             l3  rooms  bedrooms  bathrooms  \\\n",
       "0         Capital Federal  San Cristobal    7.0       7.0        2.0   \n",
       "1         Capital Federal          Boedo    2.0       1.0        2.0   \n",
       "2         Capital Federal        Palermo    2.0       1.0        1.0   \n",
       "3         Capital Federal        Palermo    2.0       1.0        1.0   \n",
       "4  Bs.As. G.B.A. Zona Sur       La Plata    2.0       1.0        1.0   \n",
       "\n",
       "   surface_total  surface_covered     price currency  \\\n",
       "0          140.0            140.0  153000.0      USD   \n",
       "1           70.0             58.0  159000.0      USD   \n",
       "2           45.0             45.0  125000.0      USD   \n",
       "3           85.0             50.0  295000.0      USD   \n",
       "4           50.0             35.0   40000.0      USD   \n",
       "\n",
       "                                               title  \\\n",
       "0        ***Venta semipiso centro, ideal hostel*****   \n",
       "1   Espectacular PH reciclado en Boedo sin expensas.   \n",
       "2  Depto.tipo casa de 2 ambientes en Venta en Pal...   \n",
       "3  COSTA RICA 5800 / PALERMO HOLLYWOOD / VENTA PH...   \n",
       "4  58 entre 1 y 2  Venta de departamento en ph.1 ...   \n",
       "\n",
       "                                         description property_type  \\\n",
       "0  DESCRIPCION DE LA PROPIEDAD: Departamento de 1...  Departamento   \n",
       "1   PH reciclado en Boedo a una cuadra de la plaz...            PH   \n",
       "2  2 ambienets amplio , excelente estado , patio ...            PH   \n",
       "3  HERMOSO PH EN PALERMO!!!2 AMBIENTES TOTALMENTE...            PH   \n",
       "4  58 entre 1 y 2  Venta de departamento en PH. P...            PH   \n",
       "\n",
       "  operation_type  \n",
       "0          Venta  \n",
       "1          Venta  \n",
       "2          Venta  \n",
       "3          Venta  \n",
       "4          Venta  "
      ]
     },
     "execution_count": 2,
     "metadata": {},
     "output_type": "execute_result"
    }
   ],
   "source": [
    "#df_properati.head()\n",
    "print(df_properati.describe())\n",
    "#df_properati.shape\n",
    "#df_properati.dtypes\n",
    "print(\"Numpero de filas: \" , len(df_properati.index))\n",
    "print(\"Numpero de columnas: \" , len(df_properati.columns))\n",
    "df_properati.head(5)\n"
   ]
  },
  {
   "cell_type": "markdown",
   "metadata": {},
   "source": [
    "### filtrado de data set y eliminacion de columnas no relevantes\n",
    "a diferencia del proyecto 1 se incorpora en el analisis la ubicacion de las propiedades ya que se infiere por experiencia que la ubicacion de las propiedades tiene una correlacion con el precio de las propiedades. tambien se decidio trabajar solo con las propiedades de capital federal ya que como se vio en el proyecto 1 la mayor cantidad de datos provienen de capital federal.\n",
    "se decide eliminar superficie cubierta que aporta la misma relacion que superficie total debido a su alta correlacion entre estas 2 variables"
   ]
  },
  {
   "cell_type": "code",
   "execution_count": 3,
   "metadata": {},
   "outputs": [],
   "source": [
    "df_properati2= df_properati[(df_properati[\"l2\"]==\"Capital Federal\") & (df_properati[\"property_type\"]==\"Departamento\")]\n",
    "df_properati3= df_properati[(df_properati[\"l2\"]==\"Capital Federal\") & (df_properati[\"property_type\"]==\"Casa\")]\n",
    "df_properati4= df_properati[(df_properati[\"l2\"]==\"Capital Federal\") & (df_properati[\"property_type\"]==\"PH\")]\n",
    "df=pd.concat([df_properati2,df_properati3,df_properati4])\n",
    "df=df[[\"rooms\",\"bedrooms\",\"bathrooms\",\"surface_total\",\"surface_covered\",\"price\",\"property_type\",\"l3\"]]\n",
    "df=df.drop([\"surface_covered\"], axis=1)"
   ]
  },
  {
   "cell_type": "code",
   "execution_count": 4,
   "metadata": {},
   "outputs": [
    {
     "data": {
      "text/plain": [
       "(91485, 7)"
      ]
     },
     "execution_count": 4,
     "metadata": {},
     "output_type": "execute_result"
    }
   ],
   "source": [
    "\n",
    "df.shape\n"
   ]
  },
  {
   "cell_type": "code",
   "execution_count": 5,
   "metadata": {},
   "outputs": [
    {
     "data": {
      "text/html": [
       "<div>\n",
       "<style scoped>\n",
       "    .dataframe tbody tr th:only-of-type {\n",
       "        vertical-align: middle;\n",
       "    }\n",
       "\n",
       "    .dataframe tbody tr th {\n",
       "        vertical-align: top;\n",
       "    }\n",
       "\n",
       "    .dataframe thead th {\n",
       "        text-align: right;\n",
       "    }\n",
       "</style>\n",
       "<table border=\"1\" class=\"dataframe\">\n",
       "  <thead>\n",
       "    <tr style=\"text-align: right;\">\n",
       "      <th></th>\n",
       "      <th>rooms</th>\n",
       "      <th>bedrooms</th>\n",
       "      <th>bathrooms</th>\n",
       "      <th>surface_total</th>\n",
       "      <th>price</th>\n",
       "    </tr>\n",
       "  </thead>\n",
       "  <tbody>\n",
       "    <tr>\n",
       "      <th>count</th>\n",
       "      <td>91485.000000</td>\n",
       "      <td>91485.000000</td>\n",
       "      <td>89314.000000</td>\n",
       "      <td>82568.000000</td>\n",
       "      <td>9.148500e+04</td>\n",
       "    </tr>\n",
       "    <tr>\n",
       "      <th>mean</th>\n",
       "      <td>2.964278</td>\n",
       "      <td>1.960278</td>\n",
       "      <td>1.560147</td>\n",
       "      <td>112.626369</td>\n",
       "      <td>2.595003e+05</td>\n",
       "    </tr>\n",
       "    <tr>\n",
       "      <th>std</th>\n",
       "      <td>1.314704</td>\n",
       "      <td>1.072946</td>\n",
       "      <td>0.860309</td>\n",
       "      <td>980.713664</td>\n",
       "      <td>3.222654e+05</td>\n",
       "    </tr>\n",
       "    <tr>\n",
       "      <th>min</th>\n",
       "      <td>1.000000</td>\n",
       "      <td>0.000000</td>\n",
       "      <td>1.000000</td>\n",
       "      <td>10.000000</td>\n",
       "      <td>6.000000e+03</td>\n",
       "    </tr>\n",
       "    <tr>\n",
       "      <th>25%</th>\n",
       "      <td>2.000000</td>\n",
       "      <td>1.000000</td>\n",
       "      <td>1.000000</td>\n",
       "      <td>49.000000</td>\n",
       "      <td>1.200000e+05</td>\n",
       "    </tr>\n",
       "    <tr>\n",
       "      <th>50%</th>\n",
       "      <td>3.000000</td>\n",
       "      <td>2.000000</td>\n",
       "      <td>1.000000</td>\n",
       "      <td>71.000000</td>\n",
       "      <td>1.750000e+05</td>\n",
       "    </tr>\n",
       "    <tr>\n",
       "      <th>75%</th>\n",
       "      <td>4.000000</td>\n",
       "      <td>3.000000</td>\n",
       "      <td>2.000000</td>\n",
       "      <td>111.000000</td>\n",
       "      <td>2.790000e+05</td>\n",
       "    </tr>\n",
       "    <tr>\n",
       "      <th>max</th>\n",
       "      <td>26.000000</td>\n",
       "      <td>15.000000</td>\n",
       "      <td>14.000000</td>\n",
       "      <td>126062.000000</td>\n",
       "      <td>3.243423e+07</td>\n",
       "    </tr>\n",
       "  </tbody>\n",
       "</table>\n",
       "</div>"
      ],
      "text/plain": [
       "              rooms      bedrooms     bathrooms  surface_total         price\n",
       "count  91485.000000  91485.000000  89314.000000   82568.000000  9.148500e+04\n",
       "mean       2.964278      1.960278      1.560147     112.626369  2.595003e+05\n",
       "std        1.314704      1.072946      0.860309     980.713664  3.222654e+05\n",
       "min        1.000000      0.000000      1.000000      10.000000  6.000000e+03\n",
       "25%        2.000000      1.000000      1.000000      49.000000  1.200000e+05\n",
       "50%        3.000000      2.000000      1.000000      71.000000  1.750000e+05\n",
       "75%        4.000000      3.000000      2.000000     111.000000  2.790000e+05\n",
       "max       26.000000     15.000000     14.000000  126062.000000  3.243423e+07"
      ]
     },
     "execution_count": 5,
     "metadata": {},
     "output_type": "execute_result"
    }
   ],
   "source": [
    "df.describe()"
   ]
  },
  {
   "cell_type": "markdown",
   "metadata": {},
   "source": [
    "##### Se eliminan los outliers con la mayor varianza ya que signfica que hay una diferencia grande entre la media y el maximo. no se eliminan outliers de precio ya que es la variable objetivo. El criterio a utilizar para eliminar valores atipicos es descartar los valores por debajo del cuartil Q1 y los valores por encima del cuartil Q3, multiplicado por 1.5 el rango intercuartilico."
   ]
  },
  {
   "cell_type": "markdown",
   "metadata": {},
   "source": [
    "## Elimininacion de outliers "
   ]
  },
  {
   "cell_type": "code",
   "execution_count": 6,
   "metadata": {},
   "outputs": [],
   "source": [
    "#filtrado con funcion\n",
    "def remove_outliers(df, column):\n",
    "    \n",
    "    Q1 = df[column].quantile(0.25)\n",
    "    Q3 = df[column].quantile(0.75)\n",
    "    IQR = Q3 - Q1\n",
    "\n",
    "    filters = ((df[column] >= (Q1 - 1.5 * IQR)) & (df[column] <= (Q3 + 1.5 * IQR)) | (df[column] != df[column]))\n",
    "    return df[filters]\n"
   ]
  },
  {
   "cell_type": "markdown",
   "metadata": {},
   "source": [
    "##### Varibale surface_total: se procede a eliminar valores atipicos de este atributo ya que presenta la mayor varianza, y leuego se observa como mejora su distribucion."
   ]
  },
  {
   "cell_type": "code",
   "execution_count": 7,
   "metadata": {},
   "outputs": [],
   "source": [
    "datafiltrado=remove_outliers(df,\"surface_total\")"
   ]
  },
  {
   "cell_type": "code",
   "execution_count": 8,
   "metadata": {},
   "outputs": [
    {
     "data": {
      "text/plain": [
       "(85195, 7)"
      ]
     },
     "execution_count": 8,
     "metadata": {},
     "output_type": "execute_result"
    }
   ],
   "source": [
    "datafiltrado.shape"
   ]
  },
  {
   "cell_type": "code",
   "execution_count": 9,
   "metadata": {},
   "outputs": [
    {
     "data": {
      "text/plain": [
       "<matplotlib.axes._subplots.AxesSubplot at 0x25125f08fc8>"
      ]
     },
     "execution_count": 9,
     "metadata": {},
     "output_type": "execute_result"
    },
    {
     "data": {
      "image/png": "[encoded data removed]",
      "text/plain": [
       "<Figure size 432x288 with 1 Axes>"
      ]
     },
     "metadata": {
      "needs_background": "light"
     },
     "output_type": "display_data"
    }
   ],
   "source": [
    "sns.distplot(datafiltrado[\"surface_total\"])"
   ]
  },
  {
   "cell_type": "code",
   "execution_count": 10,
   "metadata": {},
   "outputs": [
    {
     "data": {
      "text/plain": [
       "(85195, 7)"
      ]
     },
     "execution_count": 10,
     "metadata": {},
     "output_type": "execute_result"
    }
   ],
   "source": [
    "datafiltrado.shape"
   ]
  },
  {
   "cell_type": "markdown",
   "metadata": {},
   "source": [
    "##### a Continuacion se elimina los outliers de atributos restantes y asi disminuir la varianza Y obtener una mejor distribucion. a pesar de que inicialmente tienen poca varianza se decide aplicarles de igual manera los outliers para mejorar el desempeño de los modelos"
   ]
  },
  {
   "cell_type": "code",
   "execution_count": 11,
   "metadata": {},
   "outputs": [],
   "source": [
    "datafiltrado=remove_outliers(datafiltrado,\"bedrooms\")"
   ]
  },
  {
   "cell_type": "code",
   "execution_count": 12,
   "metadata": {},
   "outputs": [
    {
     "data": {
      "text/plain": [
       "(82039, 7)"
      ]
     },
     "execution_count": 12,
     "metadata": {},
     "output_type": "execute_result"
    }
   ],
   "source": [
    "datafiltrado.shape"
   ]
  },
  {
   "cell_type": "code",
   "execution_count": 13,
   "metadata": {},
   "outputs": [],
   "source": [
    "datafiltrado=remove_outliers(datafiltrado,\"bathrooms\")"
   ]
  },
  {
   "cell_type": "code",
   "execution_count": 14,
   "metadata": {},
   "outputs": [],
   "source": [
    "datafiltrado=remove_outliers(datafiltrado,\"rooms\")"
   ]
  },
  {
   "cell_type": "code",
   "execution_count": 15,
   "metadata": {},
   "outputs": [
    {
     "data": {
      "text/html": [
       "<div>\n",
       "<style scoped>\n",
       "    .dataframe tbody tr th:only-of-type {\n",
       "        vertical-align: middle;\n",
       "    }\n",
       "\n",
       "    .dataframe tbody tr th {\n",
       "        vertical-align: top;\n",
       "    }\n",
       "\n",
       "    .dataframe thead th {\n",
       "        text-align: right;\n",
       "    }\n",
       "</style>\n",
       "<table border=\"1\" class=\"dataframe\">\n",
       "  <thead>\n",
       "    <tr style=\"text-align: right;\">\n",
       "      <th></th>\n",
       "      <th>rooms</th>\n",
       "      <th>bedrooms</th>\n",
       "      <th>bathrooms</th>\n",
       "      <th>surface_total</th>\n",
       "      <th>price</th>\n",
       "    </tr>\n",
       "  </thead>\n",
       "  <tbody>\n",
       "    <tr>\n",
       "      <th>count</th>\n",
       "      <td>79457.000000</td>\n",
       "      <td>79457.000000</td>\n",
       "      <td>77479.000000</td>\n",
       "      <td>71295.000000</td>\n",
       "      <td>7.945700e+04</td>\n",
       "    </tr>\n",
       "    <tr>\n",
       "      <th>mean</th>\n",
       "      <td>2.632971</td>\n",
       "      <td>1.705312</td>\n",
       "      <td>1.365609</td>\n",
       "      <td>73.172887</td>\n",
       "      <td>1.986746e+05</td>\n",
       "    </tr>\n",
       "    <tr>\n",
       "      <th>std</th>\n",
       "      <td>0.920081</td>\n",
       "      <td>0.799505</td>\n",
       "      <td>0.588273</td>\n",
       "      <td>35.416725</td>\n",
       "      <td>1.406790e+05</td>\n",
       "    </tr>\n",
       "    <tr>\n",
       "      <th>min</th>\n",
       "      <td>1.000000</td>\n",
       "      <td>0.000000</td>\n",
       "      <td>1.000000</td>\n",
       "      <td>10.000000</td>\n",
       "      <td>7.500000e+03</td>\n",
       "    </tr>\n",
       "    <tr>\n",
       "      <th>25%</th>\n",
       "      <td>2.000000</td>\n",
       "      <td>1.000000</td>\n",
       "      <td>1.000000</td>\n",
       "      <td>47.000000</td>\n",
       "      <td>1.150000e+05</td>\n",
       "    </tr>\n",
       "    <tr>\n",
       "      <th>50%</th>\n",
       "      <td>3.000000</td>\n",
       "      <td>2.000000</td>\n",
       "      <td>1.000000</td>\n",
       "      <td>65.000000</td>\n",
       "      <td>1.600000e+05</td>\n",
       "    </tr>\n",
       "    <tr>\n",
       "      <th>75%</th>\n",
       "      <td>3.000000</td>\n",
       "      <td>2.000000</td>\n",
       "      <td>2.000000</td>\n",
       "      <td>90.000000</td>\n",
       "      <td>2.380000e+05</td>\n",
       "    </tr>\n",
       "    <tr>\n",
       "      <th>max</th>\n",
       "      <td>4.000000</td>\n",
       "      <td>3.000000</td>\n",
       "      <td>3.000000</td>\n",
       "      <td>204.000000</td>\n",
       "      <td>4.144561e+06</td>\n",
       "    </tr>\n",
       "  </tbody>\n",
       "</table>\n",
       "</div>"
      ],
      "text/plain": [
       "              rooms      bedrooms     bathrooms  surface_total         price\n",
       "count  79457.000000  79457.000000  77479.000000   71295.000000  7.945700e+04\n",
       "mean       2.632971      1.705312      1.365609      73.172887  1.986746e+05\n",
       "std        0.920081      0.799505      0.588273      35.416725  1.406790e+05\n",
       "min        1.000000      0.000000      1.000000      10.000000  7.500000e+03\n",
       "25%        2.000000      1.000000      1.000000      47.000000  1.150000e+05\n",
       "50%        3.000000      2.000000      1.000000      65.000000  1.600000e+05\n",
       "75%        3.000000      2.000000      2.000000      90.000000  2.380000e+05\n",
       "max        4.000000      3.000000      3.000000     204.000000  4.144561e+06"
      ]
     },
     "execution_count": 15,
     "metadata": {},
     "output_type": "execute_result"
    }
   ],
   "source": [
    "datafiltrado.describe()"
   ]
  },
  {
   "cell_type": "code",
   "execution_count": 16,
   "metadata": {},
   "outputs": [
    {
     "data": {
      "text/plain": [
       "(79457, 7)"
      ]
     },
     "execution_count": 16,
     "metadata": {},
     "output_type": "execute_result"
    }
   ],
   "source": [
    "datafiltrado.shape"
   ]
  },
  {
   "cell_type": "markdown",
   "metadata": {},
   "source": [
    "##### Se observa finalmente la reduccion de la varianza de todos los atributos, lo que significa que la funcion se aplicon exito."
   ]
  },
  {
   "cell_type": "markdown",
   "metadata": {},
   "source": [
    "### Imputacion de valores faltantes"
   ]
  },
  {
   "cell_type": "code",
   "execution_count": 17,
   "metadata": {},
   "outputs": [
    {
     "data": {
      "text/html": [
       "<div>\n",
       "<style scoped>\n",
       "    .dataframe tbody tr th:only-of-type {\n",
       "        vertical-align: middle;\n",
       "    }\n",
       "\n",
       "    .dataframe tbody tr th {\n",
       "        vertical-align: top;\n",
       "    }\n",
       "\n",
       "    .dataframe thead th {\n",
       "        text-align: right;\n",
       "    }\n",
       "</style>\n",
       "<table border=\"1\" class=\"dataframe\">\n",
       "  <thead>\n",
       "    <tr style=\"text-align: right;\">\n",
       "      <th></th>\n",
       "      <th>0</th>\n",
       "    </tr>\n",
       "  </thead>\n",
       "  <tbody>\n",
       "    <tr>\n",
       "      <th>rooms</th>\n",
       "      <td>0</td>\n",
       "    </tr>\n",
       "    <tr>\n",
       "      <th>bedrooms</th>\n",
       "      <td>0</td>\n",
       "    </tr>\n",
       "    <tr>\n",
       "      <th>bathrooms</th>\n",
       "      <td>1978</td>\n",
       "    </tr>\n",
       "    <tr>\n",
       "      <th>surface_total</th>\n",
       "      <td>8162</td>\n",
       "    </tr>\n",
       "    <tr>\n",
       "      <th>price</th>\n",
       "      <td>0</td>\n",
       "    </tr>\n",
       "    <tr>\n",
       "      <th>property_type</th>\n",
       "      <td>0</td>\n",
       "    </tr>\n",
       "    <tr>\n",
       "      <th>l3</th>\n",
       "      <td>0</td>\n",
       "    </tr>\n",
       "  </tbody>\n",
       "</table>\n",
       "</div>"
      ],
      "text/plain": [
       "                  0\n",
       "rooms             0\n",
       "bedrooms          0\n",
       "bathrooms      1978\n",
       "surface_total  8162\n",
       "price             0\n",
       "property_type     0\n",
       "l3                0"
      ]
     },
     "metadata": {},
     "output_type": "display_data"
    },
    {
     "data": {
      "text/plain": [
       "1.3656087455955808"
      ]
     },
     "execution_count": 17,
     "metadata": {},
     "output_type": "execute_result"
    }
   ],
   "source": [
    "display(datafiltrado.isna().sum().to_frame())\n",
    "datafiltrado[\"bathrooms\"].mean()"
   ]
  },
  {
   "cell_type": "code",
   "execution_count": 18,
   "metadata": {},
   "outputs": [
    {
     "data": {
      "text/plain": [
       "rooms            0\n",
       "bedrooms         0\n",
       "bathrooms        0\n",
       "surface_total    0\n",
       "price            0\n",
       "property_type    0\n",
       "l3               0\n",
       "dtype: int64"
      ]
     },
     "execution_count": 18,
     "metadata": {},
     "output_type": "execute_result"
    }
   ],
   "source": [
    "datafiltrado2 = datafiltrado.copy()\n",
    "datafiltrado2.fillna(datafiltrado2.mean(),inplace = True)\n",
    "datafiltrado2.isna().sum()\n"
   ]
  },
  {
   "cell_type": "code",
   "execution_count": 19,
   "metadata": {},
   "outputs": [
    {
     "data": {
      "text/html": [
       "<div>\n",
       "<style scoped>\n",
       "    .dataframe tbody tr th:only-of-type {\n",
       "        vertical-align: middle;\n",
       "    }\n",
       "\n",
       "    .dataframe tbody tr th {\n",
       "        vertical-align: top;\n",
       "    }\n",
       "\n",
       "    .dataframe thead th {\n",
       "        text-align: right;\n",
       "    }\n",
       "</style>\n",
       "<table border=\"1\" class=\"dataframe\">\n",
       "  <thead>\n",
       "    <tr style=\"text-align: right;\">\n",
       "      <th></th>\n",
       "      <th>0</th>\n",
       "    </tr>\n",
       "  </thead>\n",
       "  <tbody>\n",
       "    <tr>\n",
       "      <th>rooms</th>\n",
       "      <td>0</td>\n",
       "    </tr>\n",
       "    <tr>\n",
       "      <th>bedrooms</th>\n",
       "      <td>0</td>\n",
       "    </tr>\n",
       "    <tr>\n",
       "      <th>bathrooms</th>\n",
       "      <td>0</td>\n",
       "    </tr>\n",
       "    <tr>\n",
       "      <th>surface_total</th>\n",
       "      <td>0</td>\n",
       "    </tr>\n",
       "    <tr>\n",
       "      <th>price</th>\n",
       "      <td>0</td>\n",
       "    </tr>\n",
       "    <tr>\n",
       "      <th>property_type</th>\n",
       "      <td>0</td>\n",
       "    </tr>\n",
       "    <tr>\n",
       "      <th>l3</th>\n",
       "      <td>0</td>\n",
       "    </tr>\n",
       "  </tbody>\n",
       "</table>\n",
       "</div>"
      ],
      "text/plain": [
       "               0\n",
       "rooms          0\n",
       "bedrooms       0\n",
       "bathrooms      0\n",
       "surface_total  0\n",
       "price          0\n",
       "property_type  0\n",
       "l3             0"
      ]
     },
     "metadata": {},
     "output_type": "display_data"
    }
   ],
   "source": [
    "display(datafiltrado2.isna().sum().to_frame())"
   ]
  },
  {
   "cell_type": "markdown",
   "metadata": {},
   "source": [
    "#### Se realizo la imputacion de valores faltantes utilizando el promedio de los atributos, se selecciono esta opcion de imputacion ya que la media es un valor confiable."
   ]
  },
  {
   "cell_type": "markdown",
   "metadata": {},
   "source": [
    "### A continuacion se procede a  incorporar de las variables categoricas a los modelos"
   ]
  },
  {
   "cell_type": "code",
   "execution_count": 20,
   "metadata": {},
   "outputs": [
    {
     "data": {
      "text/html": [
       "<div>\n",
       "<style scoped>\n",
       "    .dataframe tbody tr th:only-of-type {\n",
       "        vertical-align: middle;\n",
       "    }\n",
       "\n",
       "    .dataframe tbody tr th {\n",
       "        vertical-align: top;\n",
       "    }\n",
       "\n",
       "    .dataframe thead th {\n",
       "        text-align: right;\n",
       "    }\n",
       "</style>\n",
       "<table border=\"1\" class=\"dataframe\">\n",
       "  <thead>\n",
       "    <tr style=\"text-align: right;\">\n",
       "      <th></th>\n",
       "      <th>rooms</th>\n",
       "      <th>bedrooms</th>\n",
       "      <th>bathrooms</th>\n",
       "      <th>surface_total</th>\n",
       "      <th>price</th>\n",
       "      <th>property_type</th>\n",
       "      <th>l3</th>\n",
       "      <th>tipo_Casa</th>\n",
       "      <th>tipo_Departamento</th>\n",
       "      <th>tipo_PH</th>\n",
       "    </tr>\n",
       "  </thead>\n",
       "  <tbody>\n",
       "    <tr>\n",
       "      <th>11</th>\n",
       "      <td>2.0</td>\n",
       "      <td>1.0</td>\n",
       "      <td>1.0</td>\n",
       "      <td>68.0</td>\n",
       "      <td>149000.0</td>\n",
       "      <td>Departamento</td>\n",
       "      <td>Boedo</td>\n",
       "      <td>0</td>\n",
       "      <td>1</td>\n",
       "      <td>0</td>\n",
       "    </tr>\n",
       "    <tr>\n",
       "      <th>12</th>\n",
       "      <td>2.0</td>\n",
       "      <td>1.0</td>\n",
       "      <td>1.0</td>\n",
       "      <td>50.0</td>\n",
       "      <td>115000.0</td>\n",
       "      <td>Departamento</td>\n",
       "      <td>Boedo</td>\n",
       "      <td>0</td>\n",
       "      <td>1</td>\n",
       "      <td>0</td>\n",
       "    </tr>\n",
       "    <tr>\n",
       "      <th>20</th>\n",
       "      <td>2.0</td>\n",
       "      <td>1.0</td>\n",
       "      <td>1.0</td>\n",
       "      <td>31.0</td>\n",
       "      <td>75000.0</td>\n",
       "      <td>Departamento</td>\n",
       "      <td>Abasto</td>\n",
       "      <td>0</td>\n",
       "      <td>1</td>\n",
       "      <td>0</td>\n",
       "    </tr>\n",
       "    <tr>\n",
       "      <th>21</th>\n",
       "      <td>1.0</td>\n",
       "      <td>1.0</td>\n",
       "      <td>1.0</td>\n",
       "      <td>22.0</td>\n",
       "      <td>48000.0</td>\n",
       "      <td>Departamento</td>\n",
       "      <td>Abasto</td>\n",
       "      <td>0</td>\n",
       "      <td>1</td>\n",
       "      <td>0</td>\n",
       "    </tr>\n",
       "    <tr>\n",
       "      <th>22</th>\n",
       "      <td>2.0</td>\n",
       "      <td>1.0</td>\n",
       "      <td>1.0</td>\n",
       "      <td>45.0</td>\n",
       "      <td>95000.0</td>\n",
       "      <td>Departamento</td>\n",
       "      <td>Flores</td>\n",
       "      <td>0</td>\n",
       "      <td>1</td>\n",
       "      <td>0</td>\n",
       "    </tr>\n",
       "    <tr>\n",
       "      <th>...</th>\n",
       "      <td>...</td>\n",
       "      <td>...</td>\n",
       "      <td>...</td>\n",
       "      <td>...</td>\n",
       "      <td>...</td>\n",
       "      <td>...</td>\n",
       "      <td>...</td>\n",
       "      <td>...</td>\n",
       "      <td>...</td>\n",
       "      <td>...</td>\n",
       "    </tr>\n",
       "    <tr>\n",
       "      <th>146440</th>\n",
       "      <td>2.0</td>\n",
       "      <td>1.0</td>\n",
       "      <td>1.0</td>\n",
       "      <td>40.0</td>\n",
       "      <td>130000.0</td>\n",
       "      <td>PH</td>\n",
       "      <td>Palermo</td>\n",
       "      <td>0</td>\n",
       "      <td>0</td>\n",
       "      <td>1</td>\n",
       "    </tr>\n",
       "    <tr>\n",
       "      <th>146441</th>\n",
       "      <td>2.0</td>\n",
       "      <td>1.0</td>\n",
       "      <td>1.0</td>\n",
       "      <td>40.0</td>\n",
       "      <td>130000.0</td>\n",
       "      <td>PH</td>\n",
       "      <td>Palermo</td>\n",
       "      <td>0</td>\n",
       "      <td>0</td>\n",
       "      <td>1</td>\n",
       "    </tr>\n",
       "    <tr>\n",
       "      <th>146549</th>\n",
       "      <td>3.0</td>\n",
       "      <td>2.0</td>\n",
       "      <td>1.0</td>\n",
       "      <td>84.0</td>\n",
       "      <td>178000.0</td>\n",
       "      <td>PH</td>\n",
       "      <td>Palermo</td>\n",
       "      <td>0</td>\n",
       "      <td>0</td>\n",
       "      <td>1</td>\n",
       "    </tr>\n",
       "    <tr>\n",
       "      <th>146554</th>\n",
       "      <td>4.0</td>\n",
       "      <td>3.0</td>\n",
       "      <td>3.0</td>\n",
       "      <td>175.0</td>\n",
       "      <td>570000.0</td>\n",
       "      <td>PH</td>\n",
       "      <td>Palermo</td>\n",
       "      <td>0</td>\n",
       "      <td>0</td>\n",
       "      <td>1</td>\n",
       "    </tr>\n",
       "    <tr>\n",
       "      <th>146555</th>\n",
       "      <td>3.0</td>\n",
       "      <td>2.0</td>\n",
       "      <td>2.0</td>\n",
       "      <td>144.0</td>\n",
       "      <td>480000.0</td>\n",
       "      <td>PH</td>\n",
       "      <td>Palermo</td>\n",
       "      <td>0</td>\n",
       "      <td>0</td>\n",
       "      <td>1</td>\n",
       "    </tr>\n",
       "  </tbody>\n",
       "</table>\n",
       "<p>79457 rows × 10 columns</p>\n",
       "</div>"
      ],
      "text/plain": [
       "        rooms  bedrooms  bathrooms  surface_total     price property_type  \\\n",
       "11        2.0       1.0        1.0           68.0  149000.0  Departamento   \n",
       "12        2.0       1.0        1.0           50.0  115000.0  Departamento   \n",
       "20        2.0       1.0        1.0           31.0   75000.0  Departamento   \n",
       "21        1.0       1.0        1.0           22.0   48000.0  Departamento   \n",
       "22        2.0       1.0        1.0           45.0   95000.0  Departamento   \n",
       "...       ...       ...        ...            ...       ...           ...   \n",
       "146440    2.0       1.0        1.0           40.0  130000.0            PH   \n",
       "146441    2.0       1.0        1.0           40.0  130000.0            PH   \n",
       "146549    3.0       2.0        1.0           84.0  178000.0            PH   \n",
       "146554    4.0       3.0        3.0          175.0  570000.0            PH   \n",
       "146555    3.0       2.0        2.0          144.0  480000.0            PH   \n",
       "\n",
       "             l3  tipo_Casa  tipo_Departamento  tipo_PH  \n",
       "11        Boedo          0                  1        0  \n",
       "12        Boedo          0                  1        0  \n",
       "20       Abasto          0                  1        0  \n",
       "21       Abasto          0                  1        0  \n",
       "22       Flores          0                  1        0  \n",
       "...         ...        ...                ...      ...  \n",
       "146440  Palermo          0                  0        1  \n",
       "146441  Palermo          0                  0        1  \n",
       "146549  Palermo          0                  0        1  \n",
       "146554  Palermo          0                  0        1  \n",
       "146555  Palermo          0                  0        1  \n",
       "\n",
       "[79457 rows x 10 columns]"
      ]
     },
     "execution_count": 20,
     "metadata": {},
     "output_type": "execute_result"
    }
   ],
   "source": [
    "dummy_ubicacion = pd.get_dummies(datafiltrado2[\"property_type\"], prefix=\"tipo\")\n",
    "datafiltrado3=pd.concat([datafiltrado2,dummy_ubicacion],axis=1)\n",
    "datafiltrado3"
   ]
  },
  {
   "cell_type": "code",
   "execution_count": 21,
   "metadata": {},
   "outputs": [
    {
     "data": {
      "text/html": [
       "<div>\n",
       "<style scoped>\n",
       "    .dataframe tbody tr th:only-of-type {\n",
       "        vertical-align: middle;\n",
       "    }\n",
       "\n",
       "    .dataframe tbody tr th {\n",
       "        vertical-align: top;\n",
       "    }\n",
       "\n",
       "    .dataframe thead th {\n",
       "        text-align: right;\n",
       "    }\n",
       "</style>\n",
       "<table border=\"1\" class=\"dataframe\">\n",
       "  <thead>\n",
       "    <tr style=\"text-align: right;\">\n",
       "      <th></th>\n",
       "      <th>l3</th>\n",
       "    </tr>\n",
       "  </thead>\n",
       "  <tbody>\n",
       "    <tr>\n",
       "      <th>11</th>\n",
       "      <td>8</td>\n",
       "    </tr>\n",
       "    <tr>\n",
       "      <th>12</th>\n",
       "      <td>8</td>\n",
       "    </tr>\n",
       "    <tr>\n",
       "      <th>20</th>\n",
       "      <td>0</td>\n",
       "    </tr>\n",
       "    <tr>\n",
       "      <th>21</th>\n",
       "      <td>0</td>\n",
       "    </tr>\n",
       "    <tr>\n",
       "      <th>22</th>\n",
       "      <td>17</td>\n",
       "    </tr>\n",
       "    <tr>\n",
       "      <th>...</th>\n",
       "      <td>...</td>\n",
       "    </tr>\n",
       "    <tr>\n",
       "      <th>146440</th>\n",
       "      <td>26</td>\n",
       "    </tr>\n",
       "    <tr>\n",
       "      <th>146441</th>\n",
       "      <td>26</td>\n",
       "    </tr>\n",
       "    <tr>\n",
       "      <th>146549</th>\n",
       "      <td>26</td>\n",
       "    </tr>\n",
       "    <tr>\n",
       "      <th>146554</th>\n",
       "      <td>26</td>\n",
       "    </tr>\n",
       "    <tr>\n",
       "      <th>146555</th>\n",
       "      <td>26</td>\n",
       "    </tr>\n",
       "  </tbody>\n",
       "</table>\n",
       "<p>79457 rows × 1 columns</p>\n",
       "</div>"
      ],
      "text/plain": [
       "        l3\n",
       "11       8\n",
       "12       8\n",
       "20       0\n",
       "21       0\n",
       "22      17\n",
       "...     ..\n",
       "146440  26\n",
       "146441  26\n",
       "146549  26\n",
       "146554  26\n",
       "146555  26\n",
       "\n",
       "[79457 rows x 1 columns]"
      ]
     },
     "execution_count": 21,
     "metadata": {},
     "output_type": "execute_result"
    }
   ],
   "source": [
    "from sklearn.preprocessing import LabelEncoder\n",
    "data_filtrado=datafiltrado3.filter([\"l3\"])\n",
    "data_filtrado=data_filtrado.apply(LabelEncoder().fit_transform)\n",
    "data_filtrado"
   ]
  },
  {
   "cell_type": "code",
   "execution_count": 22,
   "metadata": {},
   "outputs": [],
   "source": [
    "datafiltrado3=datafiltrado3.drop([\"l3\"],axis=1)"
   ]
  },
  {
   "cell_type": "code",
   "execution_count": 23,
   "metadata": {},
   "outputs": [
    {
     "data": {
      "text/html": [
       "<div>\n",
       "<style scoped>\n",
       "    .dataframe tbody tr th:only-of-type {\n",
       "        vertical-align: middle;\n",
       "    }\n",
       "\n",
       "    .dataframe tbody tr th {\n",
       "        vertical-align: top;\n",
       "    }\n",
       "\n",
       "    .dataframe thead th {\n",
       "        text-align: right;\n",
       "    }\n",
       "</style>\n",
       "<table border=\"1\" class=\"dataframe\">\n",
       "  <thead>\n",
       "    <tr style=\"text-align: right;\">\n",
       "      <th></th>\n",
       "      <th>rooms</th>\n",
       "      <th>bedrooms</th>\n",
       "      <th>bathrooms</th>\n",
       "      <th>surface_total</th>\n",
       "      <th>price</th>\n",
       "      <th>property_type</th>\n",
       "      <th>tipo_Casa</th>\n",
       "      <th>tipo_Departamento</th>\n",
       "      <th>tipo_PH</th>\n",
       "    </tr>\n",
       "  </thead>\n",
       "  <tbody>\n",
       "    <tr>\n",
       "      <th>11</th>\n",
       "      <td>2.0</td>\n",
       "      <td>1.0</td>\n",
       "      <td>1.0</td>\n",
       "      <td>68.0</td>\n",
       "      <td>149000.0</td>\n",
       "      <td>Departamento</td>\n",
       "      <td>0</td>\n",
       "      <td>1</td>\n",
       "      <td>0</td>\n",
       "    </tr>\n",
       "    <tr>\n",
       "      <th>12</th>\n",
       "      <td>2.0</td>\n",
       "      <td>1.0</td>\n",
       "      <td>1.0</td>\n",
       "      <td>50.0</td>\n",
       "      <td>115000.0</td>\n",
       "      <td>Departamento</td>\n",
       "      <td>0</td>\n",
       "      <td>1</td>\n",
       "      <td>0</td>\n",
       "    </tr>\n",
       "    <tr>\n",
       "      <th>20</th>\n",
       "      <td>2.0</td>\n",
       "      <td>1.0</td>\n",
       "      <td>1.0</td>\n",
       "      <td>31.0</td>\n",
       "      <td>75000.0</td>\n",
       "      <td>Departamento</td>\n",
       "      <td>0</td>\n",
       "      <td>1</td>\n",
       "      <td>0</td>\n",
       "    </tr>\n",
       "    <tr>\n",
       "      <th>21</th>\n",
       "      <td>1.0</td>\n",
       "      <td>1.0</td>\n",
       "      <td>1.0</td>\n",
       "      <td>22.0</td>\n",
       "      <td>48000.0</td>\n",
       "      <td>Departamento</td>\n",
       "      <td>0</td>\n",
       "      <td>1</td>\n",
       "      <td>0</td>\n",
       "    </tr>\n",
       "    <tr>\n",
       "      <th>22</th>\n",
       "      <td>2.0</td>\n",
       "      <td>1.0</td>\n",
       "      <td>1.0</td>\n",
       "      <td>45.0</td>\n",
       "      <td>95000.0</td>\n",
       "      <td>Departamento</td>\n",
       "      <td>0</td>\n",
       "      <td>1</td>\n",
       "      <td>0</td>\n",
       "    </tr>\n",
       "    <tr>\n",
       "      <th>...</th>\n",
       "      <td>...</td>\n",
       "      <td>...</td>\n",
       "      <td>...</td>\n",
       "      <td>...</td>\n",
       "      <td>...</td>\n",
       "      <td>...</td>\n",
       "      <td>...</td>\n",
       "      <td>...</td>\n",
       "      <td>...</td>\n",
       "    </tr>\n",
       "    <tr>\n",
       "      <th>146440</th>\n",
       "      <td>2.0</td>\n",
       "      <td>1.0</td>\n",
       "      <td>1.0</td>\n",
       "      <td>40.0</td>\n",
       "      <td>130000.0</td>\n",
       "      <td>PH</td>\n",
       "      <td>0</td>\n",
       "      <td>0</td>\n",
       "      <td>1</td>\n",
       "    </tr>\n",
       "    <tr>\n",
       "      <th>146441</th>\n",
       "      <td>2.0</td>\n",
       "      <td>1.0</td>\n",
       "      <td>1.0</td>\n",
       "      <td>40.0</td>\n",
       "      <td>130000.0</td>\n",
       "      <td>PH</td>\n",
       "      <td>0</td>\n",
       "      <td>0</td>\n",
       "      <td>1</td>\n",
       "    </tr>\n",
       "    <tr>\n",
       "      <th>146549</th>\n",
       "      <td>3.0</td>\n",
       "      <td>2.0</td>\n",
       "      <td>1.0</td>\n",
       "      <td>84.0</td>\n",
       "      <td>178000.0</td>\n",
       "      <td>PH</td>\n",
       "      <td>0</td>\n",
       "      <td>0</td>\n",
       "      <td>1</td>\n",
       "    </tr>\n",
       "    <tr>\n",
       "      <th>146554</th>\n",
       "      <td>4.0</td>\n",
       "      <td>3.0</td>\n",
       "      <td>3.0</td>\n",
       "      <td>175.0</td>\n",
       "      <td>570000.0</td>\n",
       "      <td>PH</td>\n",
       "      <td>0</td>\n",
       "      <td>0</td>\n",
       "      <td>1</td>\n",
       "    </tr>\n",
       "    <tr>\n",
       "      <th>146555</th>\n",
       "      <td>3.0</td>\n",
       "      <td>2.0</td>\n",
       "      <td>2.0</td>\n",
       "      <td>144.0</td>\n",
       "      <td>480000.0</td>\n",
       "      <td>PH</td>\n",
       "      <td>0</td>\n",
       "      <td>0</td>\n",
       "      <td>1</td>\n",
       "    </tr>\n",
       "  </tbody>\n",
       "</table>\n",
       "<p>79457 rows × 9 columns</p>\n",
       "</div>"
      ],
      "text/plain": [
       "        rooms  bedrooms  bathrooms  surface_total     price property_type  \\\n",
       "11        2.0       1.0        1.0           68.0  149000.0  Departamento   \n",
       "12        2.0       1.0        1.0           50.0  115000.0  Departamento   \n",
       "20        2.0       1.0        1.0           31.0   75000.0  Departamento   \n",
       "21        1.0       1.0        1.0           22.0   48000.0  Departamento   \n",
       "22        2.0       1.0        1.0           45.0   95000.0  Departamento   \n",
       "...       ...       ...        ...            ...       ...           ...   \n",
       "146440    2.0       1.0        1.0           40.0  130000.0            PH   \n",
       "146441    2.0       1.0        1.0           40.0  130000.0            PH   \n",
       "146549    3.0       2.0        1.0           84.0  178000.0            PH   \n",
       "146554    4.0       3.0        3.0          175.0  570000.0            PH   \n",
       "146555    3.0       2.0        2.0          144.0  480000.0            PH   \n",
       "\n",
       "        tipo_Casa  tipo_Departamento  tipo_PH  \n",
       "11              0                  1        0  \n",
       "12              0                  1        0  \n",
       "20              0                  1        0  \n",
       "21              0                  1        0  \n",
       "22              0                  1        0  \n",
       "...           ...                ...      ...  \n",
       "146440          0                  0        1  \n",
       "146441          0                  0        1  \n",
       "146549          0                  0        1  \n",
       "146554          0                  0        1  \n",
       "146555          0                  0        1  \n",
       "\n",
       "[79457 rows x 9 columns]"
      ]
     },
     "execution_count": 23,
     "metadata": {},
     "output_type": "execute_result"
    }
   ],
   "source": [
    "datafiltrado3"
   ]
  },
  {
   "cell_type": "code",
   "execution_count": 24,
   "metadata": {},
   "outputs": [
    {
     "data": {
      "text/html": [
       "<div>\n",
       "<style scoped>\n",
       "    .dataframe tbody tr th:only-of-type {\n",
       "        vertical-align: middle;\n",
       "    }\n",
       "\n",
       "    .dataframe tbody tr th {\n",
       "        vertical-align: top;\n",
       "    }\n",
       "\n",
       "    .dataframe thead th {\n",
       "        text-align: right;\n",
       "    }\n",
       "</style>\n",
       "<table border=\"1\" class=\"dataframe\">\n",
       "  <thead>\n",
       "    <tr style=\"text-align: right;\">\n",
       "      <th></th>\n",
       "      <th>rooms</th>\n",
       "      <th>bedrooms</th>\n",
       "      <th>bathrooms</th>\n",
       "      <th>surface_total</th>\n",
       "      <th>price</th>\n",
       "      <th>property_type</th>\n",
       "      <th>tipo_Casa</th>\n",
       "      <th>tipo_Departamento</th>\n",
       "      <th>tipo_PH</th>\n",
       "      <th>l3</th>\n",
       "    </tr>\n",
       "  </thead>\n",
       "  <tbody>\n",
       "    <tr>\n",
       "      <th>11</th>\n",
       "      <td>2.0</td>\n",
       "      <td>1.0</td>\n",
       "      <td>1.0</td>\n",
       "      <td>68.0</td>\n",
       "      <td>149000.0</td>\n",
       "      <td>Departamento</td>\n",
       "      <td>0</td>\n",
       "      <td>1</td>\n",
       "      <td>0</td>\n",
       "      <td>8</td>\n",
       "    </tr>\n",
       "    <tr>\n",
       "      <th>12</th>\n",
       "      <td>2.0</td>\n",
       "      <td>1.0</td>\n",
       "      <td>1.0</td>\n",
       "      <td>50.0</td>\n",
       "      <td>115000.0</td>\n",
       "      <td>Departamento</td>\n",
       "      <td>0</td>\n",
       "      <td>1</td>\n",
       "      <td>0</td>\n",
       "      <td>8</td>\n",
       "    </tr>\n",
       "    <tr>\n",
       "      <th>20</th>\n",
       "      <td>2.0</td>\n",
       "      <td>1.0</td>\n",
       "      <td>1.0</td>\n",
       "      <td>31.0</td>\n",
       "      <td>75000.0</td>\n",
       "      <td>Departamento</td>\n",
       "      <td>0</td>\n",
       "      <td>1</td>\n",
       "      <td>0</td>\n",
       "      <td>0</td>\n",
       "    </tr>\n",
       "    <tr>\n",
       "      <th>21</th>\n",
       "      <td>1.0</td>\n",
       "      <td>1.0</td>\n",
       "      <td>1.0</td>\n",
       "      <td>22.0</td>\n",
       "      <td>48000.0</td>\n",
       "      <td>Departamento</td>\n",
       "      <td>0</td>\n",
       "      <td>1</td>\n",
       "      <td>0</td>\n",
       "      <td>0</td>\n",
       "    </tr>\n",
       "    <tr>\n",
       "      <th>22</th>\n",
       "      <td>2.0</td>\n",
       "      <td>1.0</td>\n",
       "      <td>1.0</td>\n",
       "      <td>45.0</td>\n",
       "      <td>95000.0</td>\n",
       "      <td>Departamento</td>\n",
       "      <td>0</td>\n",
       "      <td>1</td>\n",
       "      <td>0</td>\n",
       "      <td>17</td>\n",
       "    </tr>\n",
       "    <tr>\n",
       "      <th>...</th>\n",
       "      <td>...</td>\n",
       "      <td>...</td>\n",
       "      <td>...</td>\n",
       "      <td>...</td>\n",
       "      <td>...</td>\n",
       "      <td>...</td>\n",
       "      <td>...</td>\n",
       "      <td>...</td>\n",
       "      <td>...</td>\n",
       "      <td>...</td>\n",
       "    </tr>\n",
       "    <tr>\n",
       "      <th>146440</th>\n",
       "      <td>2.0</td>\n",
       "      <td>1.0</td>\n",
       "      <td>1.0</td>\n",
       "      <td>40.0</td>\n",
       "      <td>130000.0</td>\n",
       "      <td>PH</td>\n",
       "      <td>0</td>\n",
       "      <td>0</td>\n",
       "      <td>1</td>\n",
       "      <td>26</td>\n",
       "    </tr>\n",
       "    <tr>\n",
       "      <th>146441</th>\n",
       "      <td>2.0</td>\n",
       "      <td>1.0</td>\n",
       "      <td>1.0</td>\n",
       "      <td>40.0</td>\n",
       "      <td>130000.0</td>\n",
       "      <td>PH</td>\n",
       "      <td>0</td>\n",
       "      <td>0</td>\n",
       "      <td>1</td>\n",
       "      <td>26</td>\n",
       "    </tr>\n",
       "    <tr>\n",
       "      <th>146549</th>\n",
       "      <td>3.0</td>\n",
       "      <td>2.0</td>\n",
       "      <td>1.0</td>\n",
       "      <td>84.0</td>\n",
       "      <td>178000.0</td>\n",
       "      <td>PH</td>\n",
       "      <td>0</td>\n",
       "      <td>0</td>\n",
       "      <td>1</td>\n",
       "      <td>26</td>\n",
       "    </tr>\n",
       "    <tr>\n",
       "      <th>146554</th>\n",
       "      <td>4.0</td>\n",
       "      <td>3.0</td>\n",
       "      <td>3.0</td>\n",
       "      <td>175.0</td>\n",
       "      <td>570000.0</td>\n",
       "      <td>PH</td>\n",
       "      <td>0</td>\n",
       "      <td>0</td>\n",
       "      <td>1</td>\n",
       "      <td>26</td>\n",
       "    </tr>\n",
       "    <tr>\n",
       "      <th>146555</th>\n",
       "      <td>3.0</td>\n",
       "      <td>2.0</td>\n",
       "      <td>2.0</td>\n",
       "      <td>144.0</td>\n",
       "      <td>480000.0</td>\n",
       "      <td>PH</td>\n",
       "      <td>0</td>\n",
       "      <td>0</td>\n",
       "      <td>1</td>\n",
       "      <td>26</td>\n",
       "    </tr>\n",
       "  </tbody>\n",
       "</table>\n",
       "<p>79457 rows × 10 columns</p>\n",
       "</div>"
      ],
      "text/plain": [
       "        rooms  bedrooms  bathrooms  surface_total     price property_type  \\\n",
       "11        2.0       1.0        1.0           68.0  149000.0  Departamento   \n",
       "12        2.0       1.0        1.0           50.0  115000.0  Departamento   \n",
       "20        2.0       1.0        1.0           31.0   75000.0  Departamento   \n",
       "21        1.0       1.0        1.0           22.0   48000.0  Departamento   \n",
       "22        2.0       1.0        1.0           45.0   95000.0  Departamento   \n",
       "...       ...       ...        ...            ...       ...           ...   \n",
       "146440    2.0       1.0        1.0           40.0  130000.0            PH   \n",
       "146441    2.0       1.0        1.0           40.0  130000.0            PH   \n",
       "146549    3.0       2.0        1.0           84.0  178000.0            PH   \n",
       "146554    4.0       3.0        3.0          175.0  570000.0            PH   \n",
       "146555    3.0       2.0        2.0          144.0  480000.0            PH   \n",
       "\n",
       "        tipo_Casa  tipo_Departamento  tipo_PH  l3  \n",
       "11              0                  1        0   8  \n",
       "12              0                  1        0   8  \n",
       "20              0                  1        0   0  \n",
       "21              0                  1        0   0  \n",
       "22              0                  1        0  17  \n",
       "...           ...                ...      ...  ..  \n",
       "146440          0                  0        1  26  \n",
       "146441          0                  0        1  26  \n",
       "146549          0                  0        1  26  \n",
       "146554          0                  0        1  26  \n",
       "146555          0                  0        1  26  \n",
       "\n",
       "[79457 rows x 10 columns]"
      ]
     },
     "execution_count": 24,
     "metadata": {},
     "output_type": "execute_result"
    }
   ],
   "source": [
    "data_filtrado=pd.concat([datafiltrado3,data_filtrado], axis=1)\n",
    "data_filtrado"
   ]
  },
  {
   "cell_type": "markdown",
   "metadata": {},
   "source": []
  },
  {
   "cell_type": "code",
   "execution_count": 25,
   "metadata": {},
   "outputs": [
    {
     "data": {
      "text/html": [
       "<div>\n",
       "<style scoped>\n",
       "    .dataframe tbody tr th:only-of-type {\n",
       "        vertical-align: middle;\n",
       "    }\n",
       "\n",
       "    .dataframe tbody tr th {\n",
       "        vertical-align: top;\n",
       "    }\n",
       "\n",
       "    .dataframe thead th {\n",
       "        text-align: right;\n",
       "    }\n",
       "</style>\n",
       "<table border=\"1\" class=\"dataframe\">\n",
       "  <thead>\n",
       "    <tr style=\"text-align: right;\">\n",
       "      <th></th>\n",
       "      <th>rooms</th>\n",
       "      <th>bedrooms</th>\n",
       "      <th>bathrooms</th>\n",
       "      <th>surface_total</th>\n",
       "      <th>price</th>\n",
       "      <th>tipo_Casa</th>\n",
       "      <th>tipo_Departamento</th>\n",
       "      <th>tipo_PH</th>\n",
       "      <th>l3</th>\n",
       "    </tr>\n",
       "  </thead>\n",
       "  <tbody>\n",
       "    <tr>\n",
       "      <th>rooms</th>\n",
       "      <td>1.000000</td>\n",
       "      <td>0.941051</td>\n",
       "      <td>0.498354</td>\n",
       "      <td>0.658358</td>\n",
       "      <td>0.473933</td>\n",
       "      <td>0.107493</td>\n",
       "      <td>-0.182742</td>\n",
       "      <td>0.153243</td>\n",
       "      <td>-0.059028</td>\n",
       "    </tr>\n",
       "    <tr>\n",
       "      <th>bedrooms</th>\n",
       "      <td>0.941051</td>\n",
       "      <td>1.000000</td>\n",
       "      <td>0.503718</td>\n",
       "      <td>0.640142</td>\n",
       "      <td>0.468324</td>\n",
       "      <td>0.108700</td>\n",
       "      <td>-0.172235</td>\n",
       "      <td>0.141747</td>\n",
       "      <td>-0.059134</td>\n",
       "    </tr>\n",
       "    <tr>\n",
       "      <th>bathrooms</th>\n",
       "      <td>0.498354</td>\n",
       "      <td>0.503718</td>\n",
       "      <td>1.000000</td>\n",
       "      <td>0.568637</td>\n",
       "      <td>0.588807</td>\n",
       "      <td>0.051864</td>\n",
       "      <td>-0.002625</td>\n",
       "      <td>-0.016094</td>\n",
       "      <td>-0.048521</td>\n",
       "    </tr>\n",
       "    <tr>\n",
       "      <th>surface_total</th>\n",
       "      <td>0.658358</td>\n",
       "      <td>0.640142</td>\n",
       "      <td>0.568637</td>\n",
       "      <td>1.000000</td>\n",
       "      <td>0.648603</td>\n",
       "      <td>0.149703</td>\n",
       "      <td>-0.234422</td>\n",
       "      <td>0.192287</td>\n",
       "      <td>-0.004133</td>\n",
       "    </tr>\n",
       "    <tr>\n",
       "      <th>price</th>\n",
       "      <td>0.473933</td>\n",
       "      <td>0.468324</td>\n",
       "      <td>0.588807</td>\n",
       "      <td>0.648603</td>\n",
       "      <td>1.000000</td>\n",
       "      <td>0.045787</td>\n",
       "      <td>0.014394</td>\n",
       "      <td>-0.031796</td>\n",
       "      <td>-0.009011</td>\n",
       "    </tr>\n",
       "    <tr>\n",
       "      <th>tipo_Casa</th>\n",
       "      <td>0.107493</td>\n",
       "      <td>0.108700</td>\n",
       "      <td>0.051864</td>\n",
       "      <td>0.149703</td>\n",
       "      <td>0.045787</td>\n",
       "      <td>1.000000</td>\n",
       "      <td>-0.313376</td>\n",
       "      <td>-0.033771</td>\n",
       "      <td>0.037325</td>\n",
       "    </tr>\n",
       "    <tr>\n",
       "      <th>tipo_Departamento</th>\n",
       "      <td>-0.182742</td>\n",
       "      <td>-0.172235</td>\n",
       "      <td>-0.002625</td>\n",
       "      <td>-0.234422</td>\n",
       "      <td>0.014394</td>\n",
       "      <td>-0.313376</td>\n",
       "      <td>1.000000</td>\n",
       "      <td>-0.938505</td>\n",
       "      <td>-0.093553</td>\n",
       "    </tr>\n",
       "    <tr>\n",
       "      <th>tipo_PH</th>\n",
       "      <td>0.153243</td>\n",
       "      <td>0.141747</td>\n",
       "      <td>-0.016094</td>\n",
       "      <td>0.192287</td>\n",
       "      <td>-0.031796</td>\n",
       "      <td>-0.033771</td>\n",
       "      <td>-0.938505</td>\n",
       "      <td>1.000000</td>\n",
       "      <td>0.084888</td>\n",
       "    </tr>\n",
       "    <tr>\n",
       "      <th>l3</th>\n",
       "      <td>-0.059028</td>\n",
       "      <td>-0.059134</td>\n",
       "      <td>-0.048521</td>\n",
       "      <td>-0.004133</td>\n",
       "      <td>-0.009011</td>\n",
       "      <td>0.037325</td>\n",
       "      <td>-0.093553</td>\n",
       "      <td>0.084888</td>\n",
       "      <td>1.000000</td>\n",
       "    </tr>\n",
       "  </tbody>\n",
       "</table>\n",
       "</div>"
      ],
      "text/plain": [
       "                      rooms  bedrooms  bathrooms  surface_total     price  \\\n",
       "rooms              1.000000  0.941051   0.498354       0.658358  0.473933   \n",
       "bedrooms           0.941051  1.000000   0.503718       0.640142  0.468324   \n",
       "bathrooms          0.498354  0.503718   1.000000       0.568637  0.588807   \n",
       "surface_total      0.658358  0.640142   0.568637       1.000000  0.648603   \n",
       "price              0.473933  0.468324   0.588807       0.648603  1.000000   \n",
       "tipo_Casa          0.107493  0.108700   0.051864       0.149703  0.045787   \n",
       "tipo_Departamento -0.182742 -0.172235  -0.002625      -0.234422  0.014394   \n",
       "tipo_PH            0.153243  0.141747  -0.016094       0.192287 -0.031796   \n",
       "l3                -0.059028 -0.059134  -0.048521      -0.004133 -0.009011   \n",
       "\n",
       "                   tipo_Casa  tipo_Departamento   tipo_PH        l3  \n",
       "rooms               0.107493          -0.182742  0.153243 -0.059028  \n",
       "bedrooms            0.108700          -0.172235  0.141747 -0.059134  \n",
       "bathrooms           0.051864          -0.002625 -0.016094 -0.048521  \n",
       "surface_total       0.149703          -0.234422  0.192287 -0.004133  \n",
       "price               0.045787           0.014394 -0.031796 -0.009011  \n",
       "tipo_Casa           1.000000          -0.313376 -0.033771  0.037325  \n",
       "tipo_Departamento  -0.313376           1.000000 -0.938505 -0.093553  \n",
       "tipo_PH            -0.033771          -0.938505  1.000000  0.084888  \n",
       "l3                  0.037325          -0.093553  0.084888  1.000000  "
      ]
     },
     "execution_count": 25,
     "metadata": {},
     "output_type": "execute_result"
    }
   ],
   "source": [
    "data_filtrado.corr()"
   ]
  },
  {
   "cell_type": "markdown",
   "metadata": {},
   "source": [
    "### 2. Incorporacion de modelos avanzados\n",
    "\n",
    "En esta sección, se eligieron los siguentes modelos avanzados :\n",
    "\n",
    "* Regresion polinomica con regularizacion\n",
    "* Xgboosting\n",
    "* arbol de decision optimizado con gridsearch"
   ]
  },
  {
   "cell_type": "code",
   "execution_count": 26,
   "metadata": {},
   "outputs": [],
   "source": [
    "from sklearn.linear_model import LinearRegression\n",
    "from sklearn.model_selection import train_test_split\n",
    "\n"
   ]
  },
  {
   "cell_type": "code",
   "execution_count": 27,
   "metadata": {},
   "outputs": [
    {
     "name": "stdout",
     "output_type": "stream",
     "text": [
      "(55619, 7) (55619,) (23838, 7) (23838,)\n"
     ]
    }
   ],
   "source": [
    "predictors = data_filtrado[[\"rooms\",\"surface_total\",\"bathrooms\",\"l3\",\"tipo_Casa\",\"tipo_Departamento\",\"tipo_PH\"]]\n",
    "target = data_filtrado[\"price\"]\n",
    "X = predictors\n",
    "x=X\n",
    "y = target\n",
    "X_train_1, X_test_1, y_train_1, y_test_1 = train_test_split(\n",
    "    X, y, test_size=0.30, random_state=42)\n",
    "\n",
    "\n",
    "print(X_train_1.shape, y_train_1.shape, X_test_1.shape, y_test_1.shape)"
   ]
  },
  {
   "cell_type": "markdown",
   "metadata": {
    "colab_type": "text",
    "id": "fzDXC875C4Oo"
   },
   "source": [
    "# modelo lineal"
   ]
  },
  {
   "cell_type": "code",
   "execution_count": 28,
   "metadata": {},
   "outputs": [],
   "source": [
    "linear_model = LinearRegression()"
   ]
  },
  {
   "cell_type": "markdown",
   "metadata": {},
   "source": [
    "#### Entrenamiento"
   ]
  },
  {
   "cell_type": "code",
   "execution_count": 29,
   "metadata": {},
   "outputs": [
    {
     "name": "stdout",
     "output_type": "stream",
     "text": [
      "[  4468.44999166   2071.130098    72124.07952094    173.58451479\n",
      " -26705.22244463  45107.98104141 -18402.75859678] -105639.79569410125\n"
     ]
    }
   ],
   "source": [
    "linear_model.fit(X_train_1, y_train_1)\n",
    "print(linear_model.coef_, linear_model.intercept_)"
   ]
  },
  {
   "cell_type": "markdown",
   "metadata": {},
   "source": [
    "#### Predicciones"
   ]
  },
  {
   "cell_type": "code",
   "execution_count": 30,
   "metadata": {},
   "outputs": [
    {
     "name": "stdout",
     "output_type": "stream",
     "text": [
      "[164814.84240201 133794.51850024 106487.00595824 ... 464725.78410537\n",
      " 119134.90737894 268887.56022168]\n",
      "[107378.69669115  97531.91566605 361522.91369437 ... 175355.05273656\n",
      " 129269.43703623 102865.49930662]\n"
     ]
    }
   ],
   "source": [
    "y_train_pred_1 = linear_model.predict(X_train_1)\n",
    "y_test_pred_1 = linear_model.predict(X_test_1)\n",
    "print(y_train_pred_1)\n",
    "print(y_test_pred_1)"
   ]
  },
  {
   "cell_type": "markdown",
   "metadata": {},
   "source": [
    "### evaluacion de desempeño"
   ]
  },
  {
   "cell_type": "code",
   "execution_count": 31,
   "metadata": {},
   "outputs": [
    {
     "name": "stdout",
     "output_type": "stream",
     "text": [
      "rmse test modelo lineal: 99152.66248344361\n",
      "rmse train  modelo lineal: 98221.56156662203\n",
      "r2 modelo lineal: 0.5009886037639355\n"
     ]
    }
   ],
   "source": [
    "from sklearn.metrics import mean_squared_error\n",
    "import sklearn.metrics as metrics\n",
    "from sklearn.metrics import r2_score\n",
    "mse_test = mean_squared_error(y_test_1, y_test_pred_1)\n",
    "mse_train=mean_squared_error(y_train_1, y_train_pred_1)\n",
    "r2_score_linear_regression=metrics.r2_score(y_test_1, y_test_pred_1)\n",
    "rmse = np.sqrt(mse_test)\n",
    "rmse_train_modelo_lineal=np.sqrt(mse_train)\n",
    "rmse_test_modelo_lineal=rmse\n",
    "print(\"rmse test modelo lineal:\",rmse_test_modelo_lineal)\n",
    "print(\"rmse train  modelo lineal:\",rmse_train_modelo_lineal)\n",
    "print(\"r2 modelo lineal:\",r2_score_linear_regression)"
   ]
  },
  {
   "cell_type": "markdown",
   "metadata": {},
   "source": [
    "### distribucion de error"
   ]
  },
  {
   "cell_type": "code",
   "execution_count": 32,
   "metadata": {},
   "outputs": [
    {
     "data": {
      "image/png": "[encoded data removed]",
      "text/plain": [
       "<Figure size 576x288 with 2 Axes>"
      ]
     },
     "metadata": {
      "needs_background": "light"
     },
     "output_type": "display_data"
    }
   ],
   "source": [
    "\n",
    "\n",
    "plt.figure(figsize = (8,4))\n",
    "\n",
    "plt.subplot(1,2,1)\n",
    "sns.distplot(y_train_1 - y_train_pred_1, bins = 20, label = 'train')\n",
    "sns.distplot(y_test_1 - y_test_pred_1, bins = 20, label = 'test')\n",
    "plt.xlabel('errores')\n",
    "plt.legend()\n",
    "\n",
    "\n",
    "ax = plt.subplot(1,2,2)\n",
    "ax.scatter(y_test_1,y_test_pred_1, s =2)\n",
    "\n",
    "lims = [\n",
    "np.min([ax.get_xlim(), ax.get_ylim()]),  # min of both axes\n",
    "np.max([ax.get_xlim(), ax.get_ylim()]),  # max of both axes]\n",
    "]\n",
    "\n",
    "ax.plot(lims, lims, 'k-', alpha=0.75, zorder=0)\n",
    "plt.xlabel('y (test)')\n",
    "plt.ylabel('y_pred (test)')\n",
    "\n",
    "plt.tight_layout()\n",
    "plt.show()"
   ]
  },
  {
   "cell_type": "markdown",
   "metadata": {},
   "source": []
  },
  {
   "cell_type": "markdown",
   "metadata": {},
   "source": [
    "## modelo polinomico"
   ]
  },
  {
   "cell_type": "code",
   "execution_count": 33,
   "metadata": {
    "colab_type": "text",
    "id": "XJCDt8ctC4O3"
   },
   "outputs": [],
   "source": [
    "from sklearn.preprocessing import PolynomialFeatures\n",
    "from sklearn.metrics import classification_report\n",
    "from sklearn.model_selection import train_test_split\n",
    "from sklearn.neighbors import KNeighborsClassifier\n",
    "from sklearn.model_selection import GridSearchCV\n",
    "from sklearn.model_selection import RandomizedSearchCV"
   ]
  },
  {
   "cell_type": "code",
   "execution_count": 34,
   "metadata": {},
   "outputs": [],
   "source": [
    "\n",
    "x =X\n",
    "y_real = target\n",
    "from sklearn.model_selection import train_test_split\n",
    "X_train_2, X_test_2, y_train_2, y_test_2 = train_test_split(\n",
    "    X, y, test_size=0.25, random_state=42)"
   ]
  },
  {
   "cell_type": "code",
   "execution_count": 35,
   "metadata": {},
   "outputs": [
    {
     "data": {
      "text/plain": [
       "(59592, 330)"
      ]
     },
     "execution_count": 35,
     "metadata": {},
     "output_type": "execute_result"
    }
   ],
   "source": [
    "poly =PolynomialFeatures(4)\n",
    "X_train_new =poly.fit_transform(X_train_2)\n",
    "X_test_new =poly.fit_transform(X_test_2)\n",
    "X_test_new.shape\n",
    "X_train_new.shape"
   ]
  },
  {
   "cell_type": "code",
   "execution_count": 36,
   "metadata": {},
   "outputs": [
    {
     "name": "stdout",
     "output_type": "stream",
     "text": [
      "[-3.26985211e-04 -1.39500400e+05  8.54969113e+03 -2.56340994e+05\n",
      " -5.03636839e+03 -3.68614691e+04  6.18236113e+03  3.06791084e+04\n",
      " -1.83116359e+05 -5.82942441e+01  5.93133466e+05  6.41197688e+03\n",
      " -2.38426563e+05  3.39563898e+04  6.49698606e+04 -7.21541737e+01\n",
      " -6.84687186e+03 -1.94830144e+02  5.71051202e+03  4.92594865e+02\n",
      "  2.34658923e+03 -1.49705591e+05 -2.15256664e+03  1.58768934e+05\n",
      " -1.23409454e+05 -2.91700487e+05  4.72677936e+02 -1.26213481e+03\n",
      " -2.18133655e+03 -1.59289250e+03 -3.68614668e+04  1.64487821e-05\n",
      " -1.69720070e-06  6.18235891e+03 -4.29825049e-06  3.06791079e+04\n",
      "  5.58719909e+04  7.05025492e+02  8.55706561e+04 -1.80231210e+03\n",
      "  4.20318521e+04 -1.14994278e+05 -1.10153934e+05 -3.11917428e+01\n",
      "  1.28461837e+03  7.16035470e+01 -1.52699253e+03  8.03894241e+02\n",
      "  6.64805402e+02 -5.58214401e+05 -2.38076437e+03  2.87201413e+05\n",
      "  2.10700106e+05  9.52319454e+04 -2.00286335e+02  2.09254207e+03\n",
      "  1.65070362e+03  2.66873173e+03 -2.38426562e+05  9.08630398e-08\n",
      "  2.03569897e-07  3.39563897e+04 -1.76094913e-07  6.49698602e+04\n",
      "  7.84413779e-01 -5.52346431e+00 -4.30704115e-02 -4.13845919e+01\n",
      " -6.71320177e+00 -2.40563093e+01  4.09686664e+03  7.40681875e+01\n",
      " -2.67197479e+03 -1.84879318e+03 -2.32610389e+03  5.23395849e+00\n",
      " -7.10387945e+01 -2.65612448e+01 -9.72301698e+01  5.71051203e+03\n",
      " -1.60275704e-08  2.41184352e-08  4.92594912e+02 -3.60460035e-08\n",
      "  2.34658922e+03  3.25387707e+05  3.14778715e+03 -3.06047460e+05\n",
      " -3.84496333e+04  1.94791502e+05 -8.32892197e+01 -1.76248158e+03\n",
      "  2.16161596e+02 -6.06246653e+02  1.58768934e+05 -1.83899829e-09\n",
      " -4.19640855e-09 -1.23409454e+05 -3.35057848e-09 -2.91700487e+05\n",
      " -1.27684887e+01  1.41497237e+02  1.63512355e+02  1.67668336e+02\n",
      " -1.26213481e+03  1.30967237e-08 -2.45199772e-09 -2.18133654e+03\n",
      "  2.11002771e-09 -1.59289248e+03 -3.68614668e+04  3.05590220e-10\n",
      "  2.75031198e-09 -3.39059625e-09  1.89174898e-09  1.25146471e-09\n",
      "  6.18235890e+03  7.56699592e-10 -3.02679837e-09  3.06791079e+04\n",
      " -7.22314139e+03 -2.49353084e+02  7.58540826e+03  1.23809116e+02\n",
      " -2.37384390e+03  2.71820265e+04  3.10638083e+04  1.03740661e+01\n",
      " -7.81992429e+02 -4.48787863e+00  3.62036631e+02  3.14956832e+02\n",
      "  2.80320403e+01 -3.64919299e+04  6.48966433e+02  2.80681334e+04\n",
      "  2.92001957e+04  2.83023269e+04  1.10368187e+01 -1.27483865e+03\n",
      " -1.50502132e+02 -3.76971310e+02  4.20318521e+04  0.00000000e+00\n",
      "  0.00000000e+00 -1.14994278e+05  0.00000000e+00 -1.10153934e+05\n",
      " -1.33298777e-01  2.36905207e+01 -9.68245425e-02 -5.60674499e+00\n",
      " -1.42712591e+01 -1.13137745e+01 -6.52920689e+02 -2.26530484e+01\n",
      "  6.24958923e+02  1.40185195e+02  5.19474251e+02 -3.22931998e-01\n",
      "  4.36917160e+01  6.81389591e-01  2.72304486e+01 -1.52699253e+03\n",
      "  0.00000000e+00  0.00000000e+00  8.03894242e+02  0.00000000e+00\n",
      "  6.64805403e+02  1.80303095e+05 -4.06900169e+02 -2.53634673e+05\n",
      " -1.90361662e+05 -1.14218066e+05  3.66137553e+01 -4.54829692e+02\n",
      " -9.19053145e+02 -1.00688153e+03  2.87201413e+05  0.00000000e+00\n",
      "  0.00000000e+00  2.10700106e+05  0.00000000e+00  9.52319454e+04\n",
      "  2.55993316e+00 -3.92748126e+01 -5.94364844e+01 -1.01575039e+02\n",
      "  2.09254207e+03  0.00000000e+00  0.00000000e+00  1.65070362e+03\n",
      "  0.00000000e+00  2.66873173e+03 -2.38426562e+05  0.00000000e+00\n",
      "  0.00000000e+00  0.00000000e+00  0.00000000e+00  0.00000000e+00\n",
      "  3.39563897e+04  0.00000000e+00  0.00000000e+00  6.49698602e+04\n",
      " -7.84123898e-04 -2.11583297e-01  4.39891592e-05  3.91462345e-01\n",
      "  1.23485419e-01  2.75696033e-01  4.14292694e+00 -1.45345354e-01\n",
      " -9.36278071e+00  7.67183852e+00 -3.83252363e+00  6.05573805e-03\n",
      " -3.29136376e-01  2.56031067e-01  3.01400751e-02 -4.13845918e+01\n",
      "  0.00000000e+00  0.00000000e+00 -6.71320000e+00  0.00000000e+00\n",
      " -2.40563084e+01 -7.87312229e+02  1.11011679e+01  1.74936996e+03\n",
      "  9.79618975e+02  1.36787770e+03 -1.68500298e-01  2.85000289e+01\n",
      "  2.06454287e+01  2.49227343e+01 -2.67197479e+03  0.00000000e+00\n",
      "  0.00000000e+00 -1.84879318e+03  0.00000000e+00 -2.32610389e+03\n",
      " -9.11780095e-02  2.01986511e+00  7.79066081e-01  2.43497430e+00\n",
      " -7.10387952e+01  0.00000000e+00  0.00000000e+00 -2.65612441e+01\n",
      "  0.00000000e+00 -9.72301713e+01  5.71051203e+03  0.00000000e+00\n",
      "  0.00000000e+00  0.00000000e+00  0.00000000e+00  0.00000000e+00\n",
      "  4.92594912e+02  0.00000000e+00  0.00000000e+00  2.34658922e+03\n",
      " -1.18647141e+05 -4.36607969e+02  2.29096797e+05  1.14411757e+05\n",
      " -1.81208472e+04 -2.15845217e+01  1.31576885e+03  7.48081081e+02\n",
      "  1.08393722e+03 -3.06047460e+05  0.00000000e+00  0.00000000e+00\n",
      " -3.84496333e+04  0.00000000e+00  1.94791502e+05  5.29845654e-01\n",
      " -2.58627837e+01 -3.04272303e+01 -2.69992083e+01 -1.76248158e+03\n",
      "  0.00000000e+00  0.00000000e+00  2.16161596e+02  0.00000000e+00\n",
      " -6.06246653e+02  1.58768934e+05  0.00000000e+00  0.00000000e+00\n",
      "  0.00000000e+00  0.00000000e+00  0.00000000e+00 -1.23409454e+05\n",
      "  0.00000000e+00  0.00000000e+00 -2.91700487e+05  1.46231483e-01\n",
      " -4.35095314e+00 -4.38042641e+00 -4.03706937e+00  1.41497237e+02\n",
      "  0.00000000e+00  0.00000000e+00  1.63512353e+02  0.00000000e+00\n",
      "  1.67668336e+02 -1.26213481e+03  0.00000000e+00  0.00000000e+00\n",
      "  0.00000000e+00  0.00000000e+00  0.00000000e+00 -2.18133654e+03\n",
      "  0.00000000e+00  0.00000000e+00 -1.59289248e+03 -3.68614668e+04\n",
      "  0.00000000e+00  0.00000000e+00  0.00000000e+00  0.00000000e+00\n",
      "  0.00000000e+00  0.00000000e+00  0.00000000e+00  0.00000000e+00\n",
      "  0.00000000e+00  6.18235890e+03  0.00000000e+00  0.00000000e+00\n",
      "  0.00000000e+00  3.06791079e+04] 349718.8223236637\n"
     ]
    }
   ],
   "source": [
    "reg_2 = LinearRegression()\n",
    "reg_2.fit(X_train_new, y_train_2)\n",
    "print(reg_2.coef_, reg_2.intercept_)\n",
    "y_train_pred_2 = reg_2.predict(X_train_new)\n",
    "y_test_pred_2 = reg_2.predict(X_test_new)"
   ]
  },
  {
   "cell_type": "code",
   "execution_count": 37,
   "metadata": {},
   "outputs": [
    {
     "name": "stdout",
     "output_type": "stream",
     "text": [
      "Raíz del error cuadrático medio en Train: 89510.19763258121\n",
      "Raíz del error cuadrático medio en Test: 90495.40450571102\n"
     ]
    },
    {
     "data": {
      "image/png": "[encoded data removed]",
      "text/plain": [
       "<Figure size 576x288 with 2 Axes>"
      ]
     },
     "metadata": {
      "needs_background": "light"
     },
     "output_type": "display_data"
    }
   ],
   "source": [
    "rmse_train_polinomico = np.sqrt(mean_squared_error(y_train_2, y_train_pred_2))\n",
    "rmse_test_polinomico = np.sqrt(mean_squared_error(y_test_2, y_test_pred_2))\n",
    "print(f'Raíz del error cuadrático medio en Train: {rmse_train_polinomico}')\n",
    "print(f'Raíz del error cuadrático medio en Test: {rmse_test_polinomico}')\n",
    "\n",
    "plt.figure(figsize = (8,4))\n",
    "\n",
    "plt.subplot(1,2,1)\n",
    "sns.distplot(y_train_2 - y_train_pred_2, bins = 20, label = 'train')\n",
    "sns.distplot(y_test_2 - y_test_pred_2, bins = 20, label = 'test')\n",
    "plt.xlabel('errores')\n",
    "plt.legend()\n",
    "\n",
    "\n",
    "ax = plt.subplot(1,2,2)\n",
    "ax.scatter(y_test_2,y_test_pred_2, s =2)\n",
    "\n",
    "lims = [\n",
    "np.min([ax.get_xlim(), ax.get_ylim()]),  # min of both axes\n",
    "np.max([ax.get_xlim(), ax.get_ylim()]),  # max of both axes]\n",
    "]\n",
    "\n",
    "ax.plot(lims, lims, 'k-', alpha=0.75, zorder=0)\n",
    "plt.xlabel('y (test)')\n",
    "plt.ylabel('y_pred (test)')\n",
    "\n",
    "plt.tight_layout()\n",
    "plt.show()"
   ]
  },
  {
   "cell_type": "code",
   "execution_count": 38,
   "metadata": {},
   "outputs": [
    {
     "name": "stdout",
     "output_type": "stream",
     "text": [
      "Pendientes: [ 0.00000000e+00 -2.08295205e+04  5.79855175e+03 -1.32880958e+04\n",
      " -4.03727493e+03 -1.38361282e+04  2.29593852e+04 -9.12325704e+03\n",
      " -3.04330288e+04  2.63279106e+02  2.74367539e+04  6.53977009e+03\n",
      " -1.66747087e+04 -6.43964713e+02 -3.51084711e+03 -7.12701536e+01\n",
      " -2.43076938e+03 -1.76628454e+02  3.63719391e+03  1.19980580e+02\n",
      "  2.04137794e+03  7.44892512e+03 -5.94474594e+03 -6.96155074e+02\n",
      " -1.75238723e+04  4.93193156e+03  4.60951851e+02 -1.85268728e+03\n",
      " -1.12272368e+03 -1.06186390e+03 -1.38361282e+04  0.00000000e+00\n",
      "  0.00000000e+00  2.29593852e+04  0.00000000e+00 -9.12325704e+03\n",
      " -2.23287614e+03  7.04463958e+02  4.66701016e+04 -1.83752071e+03\n",
      "  2.11867551e+03 -2.24939090e+04 -1.00577952e+04 -3.35923641e+01\n",
      "  1.38249664e+03  6.76449763e+01 -8.91793766e+02  7.02951120e+02\n",
      "  4.52120535e+02 -1.22862216e+05 -1.94665989e+03  4.18555469e+03\n",
      "  4.47582636e+04 -2.15070643e+04 -1.92181695e+02  3.05778567e+03\n",
      "  1.13886230e+03  2.34312218e+03 -1.66747087e+04  0.00000000e+00\n",
      "  0.00000000e+00 -6.43964716e+02  0.00000000e+00 -3.51084711e+03\n",
      "  1.27515648e+00 -7.26164054e+00 -5.59232762e-01 -4.06114710e+01\n",
      " -6.83956915e+00 -2.37248073e+01  1.28978354e+03  6.97670213e+01\n",
      " -3.67585782e+02 -8.15935765e+02 -1.24724623e+03  5.16797013e+00\n",
      " -5.38170990e+01 -2.48709869e+01 -9.79540634e+01  3.63719391e+03\n",
      "  0.00000000e+00  0.00000000e+00  1.19980569e+02  0.00000000e+00\n",
      "  2.04137782e+03  5.17712936e+04  5.66298527e+03  2.41044998e+03\n",
      " -1.18512383e+04  1.68897135e+04 -9.07433516e+01 -3.21516205e+03\n",
      " -1.28485477e+03 -1.44472914e+03 -6.96155074e+02  0.00000000e+00\n",
      "  0.00000000e+00 -1.75238723e+04  0.00000000e+00  4.93193157e+03\n",
      " -1.23736355e+01  1.21537797e+02  1.64271760e+02  1.75143648e+02\n",
      " -1.85268729e+03  0.00000000e+00  0.00000000e+00 -1.12272372e+03\n",
      "  0.00000000e+00 -1.06186390e+03 -1.38361282e+04  0.00000000e+00\n",
      "  0.00000000e+00  0.00000000e+00  0.00000000e+00  0.00000000e+00\n",
      "  2.29593852e+04  0.00000000e+00  0.00000000e+00 -9.12325704e+03\n",
      "  1.35121484e+03 -2.72086989e+02  1.21594993e+04  1.38783371e+02\n",
      "  1.41784840e+03 -3.20654326e+03 -4.44181388e+02  1.10619725e+01\n",
      " -8.01245383e+02 -5.15133361e+00  1.48752805e+02  3.92282966e+02\n",
      "  1.63427413e+02 -3.23058651e+04  6.23024108e+02  2.52266748e+04\n",
      "  1.57398407e+04  5.70358594e+03  8.92491904e+00 -1.53845163e+03\n",
      " -3.72309356e+01 -2.61836168e+02  2.11867551e+03  0.00000000e+00\n",
      "  0.00000000e+00 -2.24939091e+04  0.00000000e+00 -1.00577952e+04\n",
      " -1.33796948e-01  2.32295248e+01 -8.16777901e-02 -4.47871404e+00\n",
      " -1.56989894e+01 -1.32650072e+01 -6.29493964e+02 -2.15851624e+01\n",
      "  5.74423396e+02  2.29867215e+02  5.78209382e+02 -2.56685762e-01\n",
      "  3.88323061e+01  5.93466958e-01  2.82543194e+01 -8.91793917e+02\n",
      "  0.00000000e+00  0.00000000e+00  7.02951623e+02  0.00000000e+00\n",
      "  4.52120112e+02  8.05365223e+04 -5.90524326e+02 -7.14616271e+04\n",
      " -5.92202054e+04  7.81961736e+03  3.80004155e+01 -1.11625574e+02\n",
      " -7.22815847e+02 -1.11221730e+03  4.18555469e+03  0.00000000e+00\n",
      "  0.00000000e+00  4.47582636e+04  0.00000000e+00 -2.15070643e+04\n",
      "  2.47167779e+00 -3.91564527e+01 -5.44006039e+01 -9.86378359e+01\n",
      "  3.05778567e+03  0.00000000e+00  0.00000000e+00  1.13886242e+03\n",
      "  0.00000000e+00  2.34312220e+03 -1.66747087e+04  0.00000000e+00\n",
      "  0.00000000e+00  0.00000000e+00  0.00000000e+00  0.00000000e+00\n",
      " -6.43964720e+02  0.00000000e+00  0.00000000e+00 -3.51084711e+03\n",
      " -8.85888394e-04 -2.04347410e-01  8.61190000e-06 -5.60017981e-02\n",
      " -3.28678312e-01 -1.74994467e-01  3.97104279e+00 -1.48421589e-01\n",
      " -1.39378500e+01  8.86504892e+00 -2.36479284e+00  5.83238318e-03\n",
      "  8.71802576e-02  7.52982727e-01  5.15967842e-01 -4.06100346e+01\n",
      "  0.00000000e+00  0.00000000e+00 -6.85888003e+00  0.00000000e+00\n",
      " -2.37009663e+01 -1.78614492e+02  1.21279165e+01  7.53039024e+02\n",
      "  8.53058165e+01  4.51433520e+02 -1.83707691e-01  2.61972202e+01\n",
      "  1.91765566e+01  2.43780550e+01 -3.67585756e+02  0.00000000e+00\n",
      "  0.00000000e+00 -8.15936314e+02  0.00000000e+00 -1.24724611e+03\n",
      " -8.88468725e-02  1.88174258e+00  4.93183382e-01  2.19186382e+00\n",
      " -5.38166430e+01  0.00000000e+00  0.00000000e+00 -2.48730119e+01\n",
      "  0.00000000e+00 -9.79534080e+01  3.63719397e+03  0.00000000e+00\n",
      "  0.00000000e+00  0.00000000e+00  0.00000000e+00  0.00000000e+00\n",
      "  1.19980652e+02  0.00000000e+00  0.00000000e+00  2.04137789e+03\n",
      " -4.09832994e+04 -9.46185024e+02  3.07096431e+04  3.92918336e+04\n",
      " -1.82301828e+04 -1.93733172e+01  1.97409616e+03  1.71223439e+03\n",
      "  1.97665412e+03  2.41044998e+03  0.00000000e+00  0.00000000e+00\n",
      " -1.18512383e+04  0.00000000e+00  1.68897135e+04  5.54367480e-01\n",
      " -2.05131677e+01 -3.55324393e+01 -3.46945407e+01 -3.21516206e+03\n",
      "  0.00000000e+00  0.00000000e+00 -1.28485478e+03  0.00000000e+00\n",
      " -1.44472916e+03 -6.96155074e+02  0.00000000e+00  0.00000000e+00\n",
      "  0.00000000e+00  0.00000000e+00  0.00000000e+00 -1.75238723e+04\n",
      "  0.00000000e+00  0.00000000e+00  4.93193157e+03  1.44349798e-01\n",
      " -4.27899720e+00 -4.47148464e+00 -4.20997959e+00  1.21537796e+02\n",
      "  0.00000000e+00  0.00000000e+00  1.64271773e+02  0.00000000e+00\n",
      "  1.75143636e+02 -1.85268729e+03  0.00000000e+00  0.00000000e+00\n",
      "  0.00000000e+00  0.00000000e+00  0.00000000e+00 -1.12272372e+03\n",
      "  0.00000000e+00  0.00000000e+00 -1.06186390e+03 -1.38361282e+04\n",
      "  0.00000000e+00  0.00000000e+00  0.00000000e+00  0.00000000e+00\n",
      "  0.00000000e+00  0.00000000e+00  0.00000000e+00  0.00000000e+00\n",
      "  0.00000000e+00  2.29593852e+04  0.00000000e+00  0.00000000e+00\n",
      "  0.00000000e+00 -9.12325704e+03]\n",
      "Ordenada: -11939.568647666776\n"
     ]
    },
    {
     "name": "stderr",
     "output_type": "stream",
     "text": [
      "C:\\Users\\ACER\\Anaconda3\\envs\\ACAMICA\\lib\\site-packages\\sklearn\\linear_model\\_ridge.py:148: LinAlgWarning: Ill-conditioned matrix (rcond=1.44284e-21): result may not be accurate.\n",
      "  overwrite_a=True).T\n"
     ]
    }
   ],
   "source": [
    "from sklearn.linear_model import Ridge, Lasso\n",
    "\n",
    "reg_ridge = Ridge(alpha= 9)\n",
    "reg_ridge.fit(X_train_new,y_train_2)\n",
    "y_train_pred_2 = reg_ridge.predict(X_train_new)\n",
    "y_test_pred_2 = reg_ridge.predict(X_test_new)\n",
    "\n",
    "print(f'Pendientes: {reg_ridge.coef_}')\n",
    "print(f'Ordenada: {reg_ridge.intercept_}')"
   ]
  },
  {
   "cell_type": "code",
   "execution_count": null,
   "metadata": {},
   "outputs": [],
   "source": []
  },
  {
   "cell_type": "code",
   "execution_count": 39,
   "metadata": {},
   "outputs": [
    {
     "name": "stdout",
     "output_type": "stream",
     "text": [
      "Raíz del error cuadrático medio en Train: 89651.5035043116\n",
      "Raíz del error cuadrático medio en Test: 90582.11273986746\n"
     ]
    },
    {
     "data": {
      "image/png": "[encoded data removed]",
      "text/plain": [
       "<Figure size 576x288 with 2 Axes>"
      ]
     },
     "metadata": {
      "needs_background": "light"
     },
     "output_type": "display_data"
    }
   ],
   "source": [
    "rmse_train_regularizado = np.sqrt(mean_squared_error(y_train_2, y_train_pred_2))\n",
    "rmse_test_regularizado = np.sqrt(mean_squared_error(y_test_2, y_test_pred_2))\n",
    "print(f'Raíz del error cuadrático medio en Train: {rmse_train_regularizado}')\n",
    "print(f'Raíz del error cuadrático medio en Test: {rmse_test_regularizado}')\n",
    "\n",
    "plt.figure(figsize = (8,4))\n",
    "\n",
    "plt.subplot(1,2,1)\n",
    "sns.distplot(y_train_2 - y_train_pred_2, bins = 20, label = 'train')\n",
    "sns.distplot(y_test_2 - y_test_pred_2, bins = 20, label = 'test')\n",
    "plt.xlabel('errores')\n",
    "plt.legend()\n",
    "\n",
    "\n",
    "ax = plt.subplot(1,2,2)\n",
    "ax.scatter(y_test_2,y_test_pred_2, s =2)\n",
    "\n",
    "lims = [\n",
    "np.min([ax.get_xlim(), ax.get_ylim()]),  # min of both axes\n",
    "np.max([ax.get_xlim(), ax.get_ylim()]),  # max of both axes]\n",
    "]\n",
    "\n",
    "ax.plot(lims, lims, 'k-', alpha=0.75, zorder=0)\n",
    "plt.xlabel('y (test)')\n",
    "plt.ylabel('y_pred (test)')\n",
    "\n",
    "plt.tight_layout()\n",
    "plt.show()"
   ]
  },
  {
   "cell_type": "markdown",
   "metadata": {},
   "source": [
    "#### Analisis de la regresion polinomica: se observa como disminuye el error, esto se debe a que transformar los atributos en relaciones polinomicas se mejora la prediccion. en cuanto a la regularizacion el modelo permanece con un RMSE semejante debido a que el grando del polinomio elegido no existe riesgo de sobre ajuste"
   ]
  },
  {
   "cell_type": "markdown",
   "metadata": {},
   "source": [
    "### XGBOOST"
   ]
  },
  {
   "cell_type": "code",
   "execution_count": 40,
   "metadata": {},
   "outputs": [],
   "source": [
    "from sklearn.ensemble import AdaBoostClassifier\n",
    "from sklearn.tree import DecisionTreeClassifier\n",
    "import numpy as np\n",
    "import pandas as pd\n",
    "\n",
    "import matplotlib.pyplot as plt\n",
    "import seaborn as sns\n",
    "sns.set()\n",
    "\n",
    "from sklearn.model_selection import train_test_split\n",
    "from sklearn.model_selection import cross_val_score\n",
    "from sklearn.model_selection import cross_validate\n",
    "import matplotlib.pyplot as plt\n",
    "import numpy as np\n",
    "from sklearn import datasets, ensemble\n",
    "from sklearn.inspection import permutation_importance\n",
    "from sklearn.metrics import mean_squared_error\n",
    "from sklearn.model_selection import train_test_split\n",
    "\n",
    "from sklearn.tree import DecisionTreeClassifier\n",
    "\n",
    "import sklearn.metrics as metrics\n",
    "\n",
    "from sklearn.model_selection import learning_curve\n",
    "import xgboost as xgb"
   ]
  },
  {
   "cell_type": "code",
   "execution_count": 41,
   "metadata": {},
   "outputs": [],
   "source": [
    "x =X\n",
    "y_real = target\n",
    "from sklearn.model_selection import train_test_split\n",
    "X_train, X_test, y_train, y_test = train_test_split(\n",
    "    X, y, test_size=0.25, random_state=42)"
   ]
  },
  {
   "cell_type": "code",
   "execution_count": 42,
   "metadata": {},
   "outputs": [
    {
     "name": "stdout",
     "output_type": "stream",
     "text": [
      "[0]\tvalidation_0-rmse:187369.45312\tvalidation_1-rmse:186296.37500\n",
      "[1]\tvalidation_0-rmse:151245.96875\tvalidation_1-rmse:150198.51562\n",
      "[2]\tvalidation_0-rmse:128319.57812\tvalidation_1-rmse:127260.73438\n",
      "[3]\tvalidation_0-rmse:115140.67969\tvalidation_1-rmse:114195.96094\n",
      "[4]\tvalidation_0-rmse:107486.97656\tvalidation_1-rmse:106634.34375\n",
      "[5]\tvalidation_0-rmse:103336.37500\tvalidation_1-rmse:102580.49219\n",
      "[6]\tvalidation_0-rmse:100511.78125\tvalidation_1-rmse:99859.10156\n",
      "[7]\tvalidation_0-rmse:98135.54688\tvalidation_1-rmse:97633.02344\n",
      "[8]\tvalidation_0-rmse:95827.16406\tvalidation_1-rmse:95543.17188\n",
      "[9]\tvalidation_0-rmse:94387.17969\tvalidation_1-rmse:94174.64062\n",
      "[10]\tvalidation_0-rmse:93563.82031\tvalidation_1-rmse:93325.07812\n",
      "[11]\tvalidation_0-rmse:92416.57812\tvalidation_1-rmse:92281.43750\n",
      "[12]\tvalidation_0-rmse:91928.12500\tvalidation_1-rmse:91838.50000\n",
      "[13]\tvalidation_0-rmse:91456.02344\tvalidation_1-rmse:91411.03906\n",
      "[14]\tvalidation_0-rmse:90464.96094\tvalidation_1-rmse:90532.38281\n",
      "[15]\tvalidation_0-rmse:90250.18750\tvalidation_1-rmse:90350.90625\n",
      "[16]\tvalidation_0-rmse:89709.49219\tvalidation_1-rmse:89836.06250\n",
      "[17]\tvalidation_0-rmse:89397.91406\tvalidation_1-rmse:89509.28906\n",
      "[18]\tvalidation_0-rmse:86234.60156\tvalidation_1-rmse:86531.44531\n",
      "[19]\tvalidation_0-rmse:85980.01562\tvalidation_1-rmse:86302.69531\n",
      "[20]\tvalidation_0-rmse:85723.44531\tvalidation_1-rmse:86059.14844\n",
      "[21]\tvalidation_0-rmse:85539.17188\tvalidation_1-rmse:85905.39844\n",
      "[22]\tvalidation_0-rmse:85373.92188\tvalidation_1-rmse:85733.09375\n",
      "[23]\tvalidation_0-rmse:85221.54688\tvalidation_1-rmse:85598.71094\n",
      "[24]\tvalidation_0-rmse:85127.80469\tvalidation_1-rmse:85519.22656\n",
      "[25]\tvalidation_0-rmse:84939.84375\tvalidation_1-rmse:85281.63281\n",
      "[26]\tvalidation_0-rmse:83599.75000\tvalidation_1-rmse:84049.40625\n",
      "[27]\tvalidation_0-rmse:83173.41406\tvalidation_1-rmse:83607.56250\n",
      "[28]\tvalidation_0-rmse:83124.76562\tvalidation_1-rmse:83574.38281\n",
      "[29]\tvalidation_0-rmse:83046.87500\tvalidation_1-rmse:83497.83594\n",
      "[30]\tvalidation_0-rmse:82944.37500\tvalidation_1-rmse:83403.57031\n",
      "[31]\tvalidation_0-rmse:82735.50000\tvalidation_1-rmse:83198.66406\n",
      "[32]\tvalidation_0-rmse:81968.45312\tvalidation_1-rmse:82511.67969\n",
      "[33]\tvalidation_0-rmse:81662.32031\tvalidation_1-rmse:82193.94531\n",
      "[34]\tvalidation_0-rmse:81611.82812\tvalidation_1-rmse:82138.58594\n",
      "[35]\tvalidation_0-rmse:81389.90625\tvalidation_1-rmse:81967.68750\n",
      "[36]\tvalidation_0-rmse:81358.87500\tvalidation_1-rmse:81938.61719\n",
      "[37]\tvalidation_0-rmse:81247.41406\tvalidation_1-rmse:81820.50000\n",
      "[38]\tvalidation_0-rmse:81155.85938\tvalidation_1-rmse:81743.78906\n",
      "[39]\tvalidation_0-rmse:81014.30469\tvalidation_1-rmse:81588.30469\n",
      "[40]\tvalidation_0-rmse:80615.25000\tvalidation_1-rmse:81252.03125\n",
      "[41]\tvalidation_0-rmse:80550.94531\tvalidation_1-rmse:81202.42969\n",
      "[42]\tvalidation_0-rmse:80489.81250\tvalidation_1-rmse:81150.99219\n",
      "[43]\tvalidation_0-rmse:80316.53125\tvalidation_1-rmse:81017.47656\n",
      "[44]\tvalidation_0-rmse:80226.52344\tvalidation_1-rmse:80923.15625\n",
      "[45]\tvalidation_0-rmse:80102.37500\tvalidation_1-rmse:80810.32812\n",
      "[46]\tvalidation_0-rmse:80003.14062\tvalidation_1-rmse:80721.82031\n",
      "[47]\tvalidation_0-rmse:79615.83594\tvalidation_1-rmse:80389.56250\n",
      "[48]\tvalidation_0-rmse:79473.39062\tvalidation_1-rmse:80260.31250\n",
      "[49]\tvalidation_0-rmse:79411.29688\tvalidation_1-rmse:80214.92969\n",
      "[50]\tvalidation_0-rmse:79298.77344\tvalidation_1-rmse:80139.34375\n",
      "[51]\tvalidation_0-rmse:79221.29688\tvalidation_1-rmse:80067.39844\n",
      "[52]\tvalidation_0-rmse:79187.91406\tvalidation_1-rmse:80034.23438\n",
      "[53]\tvalidation_0-rmse:78992.33594\tvalidation_1-rmse:79872.16406\n",
      "[54]\tvalidation_0-rmse:78917.39062\tvalidation_1-rmse:79816.16406\n",
      "[55]\tvalidation_0-rmse:78867.47656\tvalidation_1-rmse:79776.53906\n",
      "[56]\tvalidation_0-rmse:78658.18750\tvalidation_1-rmse:79644.67969\n",
      "[57]\tvalidation_0-rmse:78633.99219\tvalidation_1-rmse:79620.00781\n",
      "[58]\tvalidation_0-rmse:78556.48438\tvalidation_1-rmse:79542.21094\n",
      "[59]\tvalidation_0-rmse:78483.47656\tvalidation_1-rmse:79472.53906\n",
      "[60]\tvalidation_0-rmse:78471.21094\tvalidation_1-rmse:79462.72656\n",
      "[61]\tvalidation_0-rmse:78360.26562\tvalidation_1-rmse:79368.48438\n",
      "[62]\tvalidation_0-rmse:78316.94531\tvalidation_1-rmse:79339.73438\n",
      "[63]\tvalidation_0-rmse:78254.90625\tvalidation_1-rmse:79307.34375\n",
      "[64]\tvalidation_0-rmse:78082.14062\tvalidation_1-rmse:79169.39062\n",
      "[65]\tvalidation_0-rmse:78029.23438\tvalidation_1-rmse:79130.91406\n",
      "[66]\tvalidation_0-rmse:77947.42188\tvalidation_1-rmse:79050.75000\n",
      "[67]\tvalidation_0-rmse:77878.44531\tvalidation_1-rmse:78996.56250\n",
      "[68]\tvalidation_0-rmse:77812.32812\tvalidation_1-rmse:78946.03906\n",
      "[69]\tvalidation_0-rmse:77743.57031\tvalidation_1-rmse:78890.03906\n",
      "[70]\tvalidation_0-rmse:77630.96094\tvalidation_1-rmse:78834.75000\n",
      "[71]\tvalidation_0-rmse:77559.01562\tvalidation_1-rmse:78786.28125\n",
      "[72]\tvalidation_0-rmse:77513.89844\tvalidation_1-rmse:78745.54688\n",
      "[73]\tvalidation_0-rmse:77473.52344\tvalidation_1-rmse:78706.43750\n",
      "[74]\tvalidation_0-rmse:77422.28125\tvalidation_1-rmse:78638.88281\n",
      "[75]\tvalidation_0-rmse:77373.72656\tvalidation_1-rmse:78605.80469\n",
      "[76]\tvalidation_0-rmse:77344.33594\tvalidation_1-rmse:78591.36719\n",
      "[77]\tvalidation_0-rmse:77299.13281\tvalidation_1-rmse:78552.49219\n",
      "[78]\tvalidation_0-rmse:77280.87500\tvalidation_1-rmse:78532.52344\n",
      "[79]\tvalidation_0-rmse:77219.93750\tvalidation_1-rmse:78496.11719\n",
      "[80]\tvalidation_0-rmse:77186.93750\tvalidation_1-rmse:78482.37500\n",
      "[81]\tvalidation_0-rmse:77175.60938\tvalidation_1-rmse:78471.57812\n",
      "[82]\tvalidation_0-rmse:77152.34375\tvalidation_1-rmse:78457.00781\n",
      "[83]\tvalidation_0-rmse:77100.11719\tvalidation_1-rmse:78442.25000\n",
      "[84]\tvalidation_0-rmse:77047.20312\tvalidation_1-rmse:78418.42188\n",
      "[85]\tvalidation_0-rmse:77024.27344\tvalidation_1-rmse:78398.33594\n",
      "[86]\tvalidation_0-rmse:76975.25000\tvalidation_1-rmse:78350.82812\n",
      "[87]\tvalidation_0-rmse:76891.01562\tvalidation_1-rmse:78276.78125\n",
      "[88]\tvalidation_0-rmse:76855.04688\tvalidation_1-rmse:78244.09375\n",
      "[89]\tvalidation_0-rmse:76812.19531\tvalidation_1-rmse:78200.56250\n",
      "[90]\tvalidation_0-rmse:76659.21875\tvalidation_1-rmse:78037.78906\n",
      "[91]\tvalidation_0-rmse:76611.39062\tvalidation_1-rmse:77974.76562\n",
      "[92]\tvalidation_0-rmse:76574.74219\tvalidation_1-rmse:77922.87500\n",
      "[93]\tvalidation_0-rmse:76505.84375\tvalidation_1-rmse:77889.03125\n",
      "[94]\tvalidation_0-rmse:76485.66406\tvalidation_1-rmse:77874.67969\n",
      "[95]\tvalidation_0-rmse:76436.57812\tvalidation_1-rmse:77831.09375\n",
      "[96]\tvalidation_0-rmse:76418.51562\tvalidation_1-rmse:77798.81250\n",
      "[97]\tvalidation_0-rmse:76373.16406\tvalidation_1-rmse:77761.44531\n",
      "[98]\tvalidation_0-rmse:76368.74219\tvalidation_1-rmse:77763.61719\n",
      "[99]\tvalidation_0-rmse:76342.17188\tvalidation_1-rmse:77764.27344\n",
      "[100]\tvalidation_0-rmse:76310.15625\tvalidation_1-rmse:77727.42188\n",
      "[101]\tvalidation_0-rmse:76277.57812\tvalidation_1-rmse:77707.00781\n",
      "[102]\tvalidation_0-rmse:76242.81250\tvalidation_1-rmse:77678.27344\n",
      "[103]\tvalidation_0-rmse:76238.37500\tvalidation_1-rmse:77675.07031\n",
      "[104]\tvalidation_0-rmse:76197.28906\tvalidation_1-rmse:77627.23438\n",
      "[105]\tvalidation_0-rmse:76168.32031\tvalidation_1-rmse:77601.28125\n",
      "[106]\tvalidation_0-rmse:76127.73438\tvalidation_1-rmse:77573.07031\n",
      "[107]\tvalidation_0-rmse:76114.64844\tvalidation_1-rmse:77559.38281\n",
      "[108]\tvalidation_0-rmse:76047.28125\tvalidation_1-rmse:77515.70312\n",
      "[109]\tvalidation_0-rmse:76031.12500\tvalidation_1-rmse:77491.57031\n",
      "[110]\tvalidation_0-rmse:76010.11719\tvalidation_1-rmse:77463.55469\n",
      "[111]\tvalidation_0-rmse:75975.72656\tvalidation_1-rmse:77430.12500\n",
      "[112]\tvalidation_0-rmse:75946.32031\tvalidation_1-rmse:77411.66406\n",
      "[113]\tvalidation_0-rmse:75901.33594\tvalidation_1-rmse:77378.75781\n",
      "[114]\tvalidation_0-rmse:75875.78906\tvalidation_1-rmse:77353.73438\n",
      "[115]\tvalidation_0-rmse:75793.90625\tvalidation_1-rmse:77260.30469\n",
      "[116]\tvalidation_0-rmse:75771.02344\tvalidation_1-rmse:77239.16406\n",
      "[117]\tvalidation_0-rmse:75743.35938\tvalidation_1-rmse:77241.85156\n",
      "[118]\tvalidation_0-rmse:75698.47656\tvalidation_1-rmse:77212.47656\n",
      "[119]\tvalidation_0-rmse:75673.65625\tvalidation_1-rmse:77193.26562\n",
      "[120]\tvalidation_0-rmse:75619.93750\tvalidation_1-rmse:77156.14062\n",
      "[121]\tvalidation_0-rmse:75582.25000\tvalidation_1-rmse:77138.96094\n",
      "[122]\tvalidation_0-rmse:75556.12500\tvalidation_1-rmse:77130.78125\n",
      "[123]\tvalidation_0-rmse:75524.81250\tvalidation_1-rmse:77101.58594\n",
      "[124]\tvalidation_0-rmse:75505.04688\tvalidation_1-rmse:77068.07031\n",
      "[125]\tvalidation_0-rmse:75465.39062\tvalidation_1-rmse:77028.61719\n",
      "[126]\tvalidation_0-rmse:75430.54688\tvalidation_1-rmse:77014.85156\n",
      "[127]\tvalidation_0-rmse:75391.20312\tvalidation_1-rmse:76974.32031\n",
      "[128]\tvalidation_0-rmse:75334.21875\tvalidation_1-rmse:76942.12500\n",
      "[129]\tvalidation_0-rmse:75328.34375\tvalidation_1-rmse:76934.81250\n",
      "[130]\tvalidation_0-rmse:75303.38281\tvalidation_1-rmse:76915.25000\n",
      "[131]\tvalidation_0-rmse:75287.28125\tvalidation_1-rmse:76903.05469\n",
      "[132]\tvalidation_0-rmse:75263.42969\tvalidation_1-rmse:76878.61719\n",
      "[133]\tvalidation_0-rmse:75259.72656\tvalidation_1-rmse:76875.41406\n",
      "[134]\tvalidation_0-rmse:75250.75000\tvalidation_1-rmse:76870.07031\n",
      "[135]\tvalidation_0-rmse:75238.29688\tvalidation_1-rmse:76843.32031\n",
      "[136]\tvalidation_0-rmse:75210.20312\tvalidation_1-rmse:76829.86719\n",
      "[137]\tvalidation_0-rmse:75199.77344\tvalidation_1-rmse:76819.10938\n",
      "[138]\tvalidation_0-rmse:75189.04688\tvalidation_1-rmse:76813.36719\n",
      "[139]\tvalidation_0-rmse:75185.23438\tvalidation_1-rmse:76812.13281\n",
      "[140]\tvalidation_0-rmse:75166.03125\tvalidation_1-rmse:76787.22656\n",
      "[141]\tvalidation_0-rmse:75134.75000\tvalidation_1-rmse:76763.05469\n",
      "[142]\tvalidation_0-rmse:75098.23438\tvalidation_1-rmse:76732.78125\n",
      "[143]\tvalidation_0-rmse:75095.07031\tvalidation_1-rmse:76730.77344\n",
      "[144]\tvalidation_0-rmse:75079.14844\tvalidation_1-rmse:76725.86719\n",
      "[145]\tvalidation_0-rmse:75030.38281\tvalidation_1-rmse:76675.44531\n",
      "[146]\tvalidation_0-rmse:75009.58594\tvalidation_1-rmse:76664.66406\n",
      "[147]\tvalidation_0-rmse:74948.57031\tvalidation_1-rmse:76605.92969\n",
      "[148]\tvalidation_0-rmse:74931.50000\tvalidation_1-rmse:76597.99219\n",
      "[149]\tvalidation_0-rmse:74919.72656\tvalidation_1-rmse:76579.57031\n",
      "[150]\tvalidation_0-rmse:74905.91406\tvalidation_1-rmse:76580.09375\n",
      "[151]\tvalidation_0-rmse:74876.22656\tvalidation_1-rmse:76569.35938\n",
      "[152]\tvalidation_0-rmse:74864.42969\tvalidation_1-rmse:76555.13281\n",
      "[153]\tvalidation_0-rmse:74852.01562\tvalidation_1-rmse:76546.28125\n",
      "[154]\tvalidation_0-rmse:74839.73438\tvalidation_1-rmse:76533.45312\n",
      "[155]\tvalidation_0-rmse:74822.09375\tvalidation_1-rmse:76511.14844\n",
      "[156]\tvalidation_0-rmse:74802.62500\tvalidation_1-rmse:76491.23438\n",
      "[157]\tvalidation_0-rmse:74757.00781\tvalidation_1-rmse:76450.03125\n",
      "[158]\tvalidation_0-rmse:74716.94531\tvalidation_1-rmse:76422.49219\n",
      "[159]\tvalidation_0-rmse:74708.36719\tvalidation_1-rmse:76419.46875\n",
      "[160]\tvalidation_0-rmse:74685.62500\tvalidation_1-rmse:76400.92969\n",
      "[161]\tvalidation_0-rmse:74677.84375\tvalidation_1-rmse:76385.91406\n",
      "[162]\tvalidation_0-rmse:74653.90625\tvalidation_1-rmse:76388.13281\n",
      "[163]\tvalidation_0-rmse:74646.17188\tvalidation_1-rmse:76382.02344\n",
      "[164]\tvalidation_0-rmse:74627.03906\tvalidation_1-rmse:76372.78906\n",
      "[165]\tvalidation_0-rmse:74601.10938\tvalidation_1-rmse:76352.73438\n",
      "[166]\tvalidation_0-rmse:74571.43750\tvalidation_1-rmse:76343.00000\n",
      "[167]\tvalidation_0-rmse:74538.32031\tvalidation_1-rmse:76311.80469\n",
      "[168]\tvalidation_0-rmse:74505.42188\tvalidation_1-rmse:76298.96094\n",
      "[169]\tvalidation_0-rmse:74491.21094\tvalidation_1-rmse:76294.96875\n",
      "[170]\tvalidation_0-rmse:74477.07812\tvalidation_1-rmse:76283.22656\n",
      "[171]\tvalidation_0-rmse:74454.07031\tvalidation_1-rmse:76271.96094\n",
      "[172]\tvalidation_0-rmse:74440.00000\tvalidation_1-rmse:76258.71875\n",
      "[173]\tvalidation_0-rmse:74406.02344\tvalidation_1-rmse:76214.60156\n",
      "[174]\tvalidation_0-rmse:74381.06250\tvalidation_1-rmse:76192.51562\n",
      "[175]\tvalidation_0-rmse:74373.94531\tvalidation_1-rmse:76187.22656\n",
      "[176]\tvalidation_0-rmse:74357.52344\tvalidation_1-rmse:76181.50000\n",
      "[177]\tvalidation_0-rmse:74314.01562\tvalidation_1-rmse:76154.89062\n",
      "[178]\tvalidation_0-rmse:74303.55469\tvalidation_1-rmse:76150.35938\n",
      "[179]\tvalidation_0-rmse:74271.91406\tvalidation_1-rmse:76140.33594\n",
      "[180]\tvalidation_0-rmse:74250.02344\tvalidation_1-rmse:76136.88281\n",
      "[181]\tvalidation_0-rmse:74238.44531\tvalidation_1-rmse:76128.18750\n",
      "[182]\tvalidation_0-rmse:74225.53906\tvalidation_1-rmse:76130.25000\n",
      "[183]\tvalidation_0-rmse:74222.80469\tvalidation_1-rmse:76129.70312\n",
      "[184]\tvalidation_0-rmse:74199.08594\tvalidation_1-rmse:76114.89844\n",
      "[185]\tvalidation_0-rmse:74185.97656\tvalidation_1-rmse:76100.21094\n",
      "[186]\tvalidation_0-rmse:74183.99219\tvalidation_1-rmse:76100.55469\n",
      "[187]\tvalidation_0-rmse:74166.21875\tvalidation_1-rmse:76081.05469\n",
      "[188]\tvalidation_0-rmse:74148.67969\tvalidation_1-rmse:76055.37500\n",
      "[189]\tvalidation_0-rmse:74122.05469\tvalidation_1-rmse:76043.00781\n",
      "[190]\tvalidation_0-rmse:74103.06250\tvalidation_1-rmse:76026.14062\n",
      "[191]\tvalidation_0-rmse:74083.86719\tvalidation_1-rmse:76021.70312\n",
      "[192]\tvalidation_0-rmse:74075.95312\tvalidation_1-rmse:76004.95312\n",
      "[193]\tvalidation_0-rmse:74057.15625\tvalidation_1-rmse:75985.01562\n",
      "[194]\tvalidation_0-rmse:74047.10156\tvalidation_1-rmse:75978.59375\n",
      "[195]\tvalidation_0-rmse:74041.39844\tvalidation_1-rmse:75983.39844\n",
      "[196]\tvalidation_0-rmse:74030.53906\tvalidation_1-rmse:75976.15625\n",
      "[197]\tvalidation_0-rmse:74007.66406\tvalidation_1-rmse:75954.64062\n",
      "[198]\tvalidation_0-rmse:73996.28906\tvalidation_1-rmse:75944.46875\n",
      "[199]\tvalidation_0-rmse:73982.10156\tvalidation_1-rmse:75945.58594\n",
      "[200]\tvalidation_0-rmse:73964.64062\tvalidation_1-rmse:75936.82031\n",
      "[201]\tvalidation_0-rmse:73936.69531\tvalidation_1-rmse:75909.09375\n",
      "[202]\tvalidation_0-rmse:73924.27344\tvalidation_1-rmse:75893.16406\n",
      "[203]\tvalidation_0-rmse:73902.21875\tvalidation_1-rmse:75865.88281\n",
      "[204]\tvalidation_0-rmse:73893.04688\tvalidation_1-rmse:75856.71094\n",
      "[205]\tvalidation_0-rmse:73861.14062\tvalidation_1-rmse:75825.03125\n",
      "[206]\tvalidation_0-rmse:73830.37500\tvalidation_1-rmse:75806.80469\n",
      "[207]\tvalidation_0-rmse:73824.09375\tvalidation_1-rmse:75802.44531\n",
      "[208]\tvalidation_0-rmse:73818.21875\tvalidation_1-rmse:75791.42969\n",
      "[209]\tvalidation_0-rmse:73807.07812\tvalidation_1-rmse:75775.03906\n",
      "[210]\tvalidation_0-rmse:73793.24219\tvalidation_1-rmse:75757.07812\n",
      "[211]\tvalidation_0-rmse:73790.50781\tvalidation_1-rmse:75757.45312\n",
      "[212]\tvalidation_0-rmse:73776.94531\tvalidation_1-rmse:75743.63281\n",
      "[213]\tvalidation_0-rmse:73760.46875\tvalidation_1-rmse:75724.66406\n",
      "[214]\tvalidation_0-rmse:73747.91406\tvalidation_1-rmse:75721.90625\n",
      "[215]\tvalidation_0-rmse:73723.21094\tvalidation_1-rmse:75707.35938\n",
      "[216]\tvalidation_0-rmse:73716.39844\tvalidation_1-rmse:75704.23438\n",
      "[217]\tvalidation_0-rmse:73702.31250\tvalidation_1-rmse:75694.08594\n",
      "[218]\tvalidation_0-rmse:73701.01562\tvalidation_1-rmse:75696.30469\n",
      "[219]\tvalidation_0-rmse:73698.94531\tvalidation_1-rmse:75695.93750\n",
      "[220]\tvalidation_0-rmse:73688.42188\tvalidation_1-rmse:75684.59375\n",
      "[221]\tvalidation_0-rmse:73670.53906\tvalidation_1-rmse:75665.31250\n",
      "[222]\tvalidation_0-rmse:73665.44531\tvalidation_1-rmse:75662.20312\n",
      "[223]\tvalidation_0-rmse:73655.58594\tvalidation_1-rmse:75651.94531\n",
      "[224]\tvalidation_0-rmse:73641.28125\tvalidation_1-rmse:75644.43750\n",
      "[225]\tvalidation_0-rmse:73628.17188\tvalidation_1-rmse:75636.16406\n",
      "[226]\tvalidation_0-rmse:73623.03906\tvalidation_1-rmse:75631.21875\n",
      "[227]\tvalidation_0-rmse:73615.06250\tvalidation_1-rmse:75622.73438\n",
      "[228]\tvalidation_0-rmse:73599.07812\tvalidation_1-rmse:75614.03906\n",
      "[229]\tvalidation_0-rmse:73587.70312\tvalidation_1-rmse:75605.54688\n",
      "[230]\tvalidation_0-rmse:73568.71875\tvalidation_1-rmse:75589.59375\n",
      "[231]\tvalidation_0-rmse:73556.02344\tvalidation_1-rmse:75576.59375\n",
      "[232]\tvalidation_0-rmse:73532.52344\tvalidation_1-rmse:75566.34375\n",
      "[233]\tvalidation_0-rmse:73523.50781\tvalidation_1-rmse:75557.03125\n",
      "[234]\tvalidation_0-rmse:73521.42188\tvalidation_1-rmse:75557.07031\n",
      "[235]\tvalidation_0-rmse:73509.64062\tvalidation_1-rmse:75549.85156\n",
      "[236]\tvalidation_0-rmse:73497.97656\tvalidation_1-rmse:75529.78125\n",
      "[237]\tvalidation_0-rmse:73487.54688\tvalidation_1-rmse:75518.01562\n",
      "[238]\tvalidation_0-rmse:73486.09375\tvalidation_1-rmse:75520.56250\n",
      "[239]\tvalidation_0-rmse:73480.01562\tvalidation_1-rmse:75517.96875\n",
      "[240]\tvalidation_0-rmse:73469.89062\tvalidation_1-rmse:75508.55469\n",
      "[241]\tvalidation_0-rmse:73454.16406\tvalidation_1-rmse:75496.43750\n",
      "[242]\tvalidation_0-rmse:73432.46094\tvalidation_1-rmse:75486.05469\n",
      "[243]\tvalidation_0-rmse:73418.23438\tvalidation_1-rmse:75476.47656\n",
      "[244]\tvalidation_0-rmse:73408.00000\tvalidation_1-rmse:75460.58594\n",
      "[245]\tvalidation_0-rmse:73394.07031\tvalidation_1-rmse:75450.10156\n",
      "[246]\tvalidation_0-rmse:73382.85156\tvalidation_1-rmse:75435.69531\n",
      "[247]\tvalidation_0-rmse:73369.95312\tvalidation_1-rmse:75439.44531\n",
      "[248]\tvalidation_0-rmse:73361.03125\tvalidation_1-rmse:75430.06250\n",
      "[249]\tvalidation_0-rmse:73342.08594\tvalidation_1-rmse:75421.43750\n"
     ]
    },
    {
     "data": {
      "text/plain": [
       "XGBRegressor(base_score=0.5, booster='gbtree', colsample_bylevel=1,\n",
       "             colsample_bynode=1, colsample_bytree=1, gamma=0, gpu_id=-1,\n",
       "             importance_type='gain', interaction_constraints='',\n",
       "             learning_rate=0.300000012, max_delta_step=0, max_depth=2,\n",
       "             min_child_weight=1, missing=nan, monotone_constraints='()',\n",
       "             n_estimators=250, n_jobs=4, num_parallel_tree=1, random_state=0,\n",
       "             reg_alpha=0, reg_lambda=1, scale_pos_weight=1, subsample=1,\n",
       "             tree_method='exact', validate_parameters=1, verbosity=None)"
      ]
     },
     "execution_count": 42,
     "metadata": {},
     "output_type": "execute_result"
    }
   ],
   "source": [
    "\n",
    "xgb_cl = xgb.XGBRegressor(n_estimators=250, max_depth=2)\n",
    "xgb_cl.fit(X_train, y_train, eval_set=[(X_train, y_train), (X_test, y_test)],\n",
    "        eval_metric=['rmse'])"
   ]
  },
  {
   "cell_type": "code",
   "execution_count": 43,
   "metadata": {},
   "outputs": [],
   "source": [
    "y_pred_test_3 = xgb_cl.predict(X_test)\n",
    "y_pred_train_3 = xgb_cl.predict(X_train)"
   ]
  },
  {
   "cell_type": "code",
   "execution_count": 44,
   "metadata": {},
   "outputs": [
    {
     "data": {
      "text/plain": [
       "73342.10537954315"
      ]
     },
     "execution_count": 44,
     "metadata": {},
     "output_type": "execute_result"
    }
   ],
   "source": [
    "#rmse\n",
    "xgb_rmse_test=mean_squared_error(y_test,y_pred_test_3)\n",
    "xgb_rmse_train=mean_squared_error(y_train,y_pred_train_3)\n",
    "xgb_rmse_test=np.sqrt(xgb_rmse_test)\n",
    "xgb_rmse_train=np.sqrt(xgb_rmse_train)\n",
    "xgb_rmse_test\n",
    "xgb_rmse_train"
   ]
  },
  {
   "cell_type": "code",
   "execution_count": 45,
   "metadata": {},
   "outputs": [],
   "source": [
    "error_test = metrics.mean_squared_error(y_test, y_pred_test_3)\n",
    "error_train = metrics.mean_squared_error(y_train, y_pred_train_3)\n",
    "error_test=np.sqrt(error_test)\n",
    "error_train=np.sqrt(error_train)\n",
    "r2_score_test=metrics.r2_score(y_test, y_pred_test_3)\n",
    "r2_score_train=metrics.r2_score(y_train, y_pred_train_3)"
   ]
  },
  {
   "cell_type": "code",
   "execution_count": 46,
   "metadata": {},
   "outputs": [
    {
     "name": "stdout",
     "output_type": "stream",
     "text": [
      "error sobre el train set:  73342.10537954315\n",
      "error sobre el test set:  75421.4776317615\n",
      "r2_score train:  0.7292791545355968\n",
      "r2_score test::  0.7090781536788693\n"
     ]
    }
   ],
   "source": [
    "print('error sobre el train set: ', error_train)\n",
    "print('error sobre el test set: ', error_test)\n",
    "print('r2_score train: ',r2_score_train )\n",
    "print('r2_score test:: ', r2_score_test )\n",
    "# esto quiere decir que no hay sobre ajuste es decir tiene como"
   ]
  },
  {
   "cell_type": "code",
   "execution_count": 47,
   "metadata": {},
   "outputs": [
    {
     "name": "stdout",
     "output_type": "stream",
     "text": [
      "{'validation_0': OrderedDict([('rmse', [187369.453125, 151245.96875, 128319.578125, 115140.679688, 107486.976563, 103336.375, 100511.78125, 98135.546875, 95827.164063, 94387.179688, 93563.820313, 92416.578125, 91928.125, 91456.023438, 90464.960938, 90250.1875, 89709.492188, 89397.914063, 86234.601563, 85980.015625, 85723.445313, 85539.171875, 85373.921875, 85221.546875, 85127.804688, 84939.84375, 83599.75, 83173.414063, 83124.765625, 83046.875, 82944.375, 82735.5, 81968.453125, 81662.320313, 81611.828125, 81389.90625, 81358.875, 81247.414063, 81155.859375, 81014.304688, 80615.25, 80550.945313, 80489.8125, 80316.53125, 80226.523438, 80102.375, 80003.140625, 79615.835938, 79473.390625, 79411.296875, 79298.773438, 79221.296875, 79187.914063, 78992.335938, 78917.390625, 78867.476563, 78658.1875, 78633.992188, 78556.484375, 78483.476563, 78471.210938, 78360.265625, 78316.945313, 78254.90625, 78082.140625, 78029.234375, 77947.421875, 77878.445313, 77812.328125, 77743.570313, 77630.960938, 77559.015625, 77513.898438, 77473.523438, 77422.28125, 77373.726563, 77344.335938, 77299.132813, 77280.875, 77219.9375, 77186.9375, 77175.609375, 77152.34375, 77100.117188, 77047.203125, 77024.273438, 76975.25, 76891.015625, 76855.046875, 76812.195313, 76659.21875, 76611.390625, 76574.742188, 76505.84375, 76485.664063, 76436.578125, 76418.515625, 76373.164063, 76368.742188, 76342.171875, 76310.15625, 76277.578125, 76242.8125, 76238.375, 76197.289063, 76168.320313, 76127.734375, 76114.648438, 76047.28125, 76031.125, 76010.117188, 75975.726563, 75946.320313, 75901.335938, 75875.789063, 75793.90625, 75771.023438, 75743.359375, 75698.476563, 75673.65625, 75619.9375, 75582.25, 75556.125, 75524.8125, 75505.046875, 75465.390625, 75430.546875, 75391.203125, 75334.21875, 75328.34375, 75303.382813, 75287.28125, 75263.429688, 75259.726563, 75250.75, 75238.296875, 75210.203125, 75199.773438, 75189.046875, 75185.234375, 75166.03125, 75134.75, 75098.234375, 75095.070313, 75079.148438, 75030.382813, 75009.585938, 74948.570313, 74931.5, 74919.726563, 74905.914063, 74876.226563, 74864.429688, 74852.015625, 74839.734375, 74822.09375, 74802.625, 74757.007813, 74716.945313, 74708.367188, 74685.625, 74677.84375, 74653.90625, 74646.171875, 74627.039063, 74601.109375, 74571.4375, 74538.320313, 74505.421875, 74491.210938, 74477.078125, 74454.070313, 74440.0, 74406.023438, 74381.0625, 74373.945313, 74357.523438, 74314.015625, 74303.554688, 74271.914063, 74250.023438, 74238.445313, 74225.539063, 74222.804688, 74199.085938, 74185.976563, 74183.992188, 74166.21875, 74148.679688, 74122.054688, 74103.0625, 74083.867188, 74075.953125, 74057.15625, 74047.101563, 74041.398438, 74030.539063, 74007.664063, 73996.289063, 73982.101563, 73964.640625, 73936.695313, 73924.273438, 73902.21875, 73893.046875, 73861.140625, 73830.375, 73824.09375, 73818.21875, 73807.078125, 73793.242188, 73790.507813, 73776.945313, 73760.46875, 73747.914063, 73723.210938, 73716.398438, 73702.3125, 73701.015625, 73698.945313, 73688.421875, 73670.539063, 73665.445313, 73655.585938, 73641.28125, 73628.171875, 73623.039063, 73615.0625, 73599.078125, 73587.703125, 73568.71875, 73556.023438, 73532.523438, 73523.507813, 73521.421875, 73509.640625, 73497.976563, 73487.546875, 73486.09375, 73480.015625, 73469.890625, 73454.164063, 73432.460938, 73418.234375, 73408.0, 73394.070313, 73382.851563, 73369.953125, 73361.03125, 73342.085938])]), 'validation_1': OrderedDict([('rmse', [186296.375, 150198.515625, 127260.734375, 114195.960938, 106634.34375, 102580.492188, 99859.101563, 97633.023438, 95543.171875, 94174.640625, 93325.078125, 92281.4375, 91838.5, 91411.039063, 90532.382813, 90350.90625, 89836.0625, 89509.289063, 86531.445313, 86302.695313, 86059.148438, 85905.398438, 85733.09375, 85598.710938, 85519.226563, 85281.632813, 84049.40625, 83607.5625, 83574.382813, 83497.835938, 83403.570313, 83198.664063, 82511.679688, 82193.945313, 82138.585938, 81967.6875, 81938.617188, 81820.5, 81743.789063, 81588.304688, 81252.03125, 81202.429688, 81150.992188, 81017.476563, 80923.15625, 80810.328125, 80721.820313, 80389.5625, 80260.3125, 80214.929688, 80139.34375, 80067.398438, 80034.234375, 79872.164063, 79816.164063, 79776.539063, 79644.679688, 79620.007813, 79542.210938, 79472.539063, 79462.726563, 79368.484375, 79339.734375, 79307.34375, 79169.390625, 79130.914063, 79050.75, 78996.5625, 78946.039063, 78890.039063, 78834.75, 78786.28125, 78745.546875, 78706.4375, 78638.882813, 78605.804688, 78591.367188, 78552.492188, 78532.523438, 78496.117188, 78482.375, 78471.578125, 78457.007813, 78442.25, 78418.421875, 78398.335938, 78350.828125, 78276.78125, 78244.09375, 78200.5625, 78037.789063, 77974.765625, 77922.875, 77889.03125, 77874.679688, 77831.09375, 77798.8125, 77761.445313, 77763.617188, 77764.273438, 77727.421875, 77707.007813, 77678.273438, 77675.070313, 77627.234375, 77601.28125, 77573.070313, 77559.382813, 77515.703125, 77491.570313, 77463.554688, 77430.125, 77411.664063, 77378.757813, 77353.734375, 77260.304688, 77239.164063, 77241.851563, 77212.476563, 77193.265625, 77156.140625, 77138.960938, 77130.78125, 77101.585938, 77068.070313, 77028.617188, 77014.851563, 76974.320313, 76942.125, 76934.8125, 76915.25, 76903.054688, 76878.617188, 76875.414063, 76870.070313, 76843.320313, 76829.867188, 76819.109375, 76813.367188, 76812.132813, 76787.226563, 76763.054688, 76732.78125, 76730.773438, 76725.867188, 76675.445313, 76664.664063, 76605.929688, 76597.992188, 76579.570313, 76580.09375, 76569.359375, 76555.132813, 76546.28125, 76533.453125, 76511.148438, 76491.234375, 76450.03125, 76422.492188, 76419.46875, 76400.929688, 76385.914063, 76388.132813, 76382.023438, 76372.789063, 76352.734375, 76343.0, 76311.804688, 76298.960938, 76294.96875, 76283.226563, 76271.960938, 76258.71875, 76214.601563, 76192.515625, 76187.226563, 76181.5, 76154.890625, 76150.359375, 76140.335938, 76136.882813, 76128.1875, 76130.25, 76129.703125, 76114.898438, 76100.210938, 76100.554688, 76081.054688, 76055.375, 76043.007813, 76026.140625, 76021.703125, 76004.953125, 75985.015625, 75978.59375, 75983.398438, 75976.15625, 75954.640625, 75944.46875, 75945.585938, 75936.820313, 75909.09375, 75893.164063, 75865.882813, 75856.710938, 75825.03125, 75806.804688, 75802.445313, 75791.429688, 75775.039063, 75757.078125, 75757.453125, 75743.632813, 75724.664063, 75721.90625, 75707.359375, 75704.234375, 75694.085938, 75696.304688, 75695.9375, 75684.59375, 75665.3125, 75662.203125, 75651.945313, 75644.4375, 75636.164063, 75631.21875, 75622.734375, 75614.039063, 75605.546875, 75589.59375, 75576.59375, 75566.34375, 75557.03125, 75557.070313, 75549.851563, 75529.78125, 75518.015625, 75520.5625, 75517.96875, 75508.554688, 75496.4375, 75486.054688, 75476.476563, 75460.585938, 75450.101563, 75435.695313, 75439.445313, 75430.0625, 75421.4375])])}\n"
     ]
    }
   ],
   "source": [
    "evals_results = xgb_cl.evals_result()\n",
    "print(evals_results)"
   ]
  },
  {
   "cell_type": "code",
   "execution_count": 48,
   "metadata": {},
   "outputs": [
    {
     "data": {
      "text/plain": [
       "Text(0.5, 0, 'Número de árboles')"
      ]
     },
     "execution_count": 48,
     "metadata": {},
     "output_type": "execute_result"
    },
    {
     "data": {
      "image/png": "[encoded data removed]",
      "text/plain": [
       "<Figure size 432x288 with 1 Axes>"
      ]
     },
     "metadata": {},
     "output_type": "display_data"
    }
   ],
   "source": [
    "error_test = []\n",
    "error_train = []\n",
    "# Calculamos el accuracy sobre el test set\n",
    "for prediccion_test in evals_results['validation_1']['rmse']:\n",
    "    error_test.append(prediccion_test)\n",
    "    \n",
    "for prediccion_train in evals_results['validation_0']['rmse']:    \n",
    "    error_train.append(prediccion_train)\n",
    "    \n",
    "plt.plot(range(1, len(error_test) + 1), error_test, label = 'Test')\n",
    "plt.plot(range(1, len(error_test) + 1), error_train, label = 'Train')\n",
    "plt.legend()\n",
    "plt.ylabel('rmse')\n",
    "plt.xlabel('Número de árboles')"
   ]
  },
  {
   "cell_type": "markdown",
   "metadata": {},
   "source": [
    "### en este grafico se analiza que la cantidad de arboles oprima es aproxidamente 50 arboles,ya que luego no disminuye significativamente el RMSE. y en cuanto al sobre ajuste no hay peligro ya que siempre son similares train y test."
   ]
  },
  {
   "cell_type": "code",
   "execution_count": 49,
   "metadata": {},
   "outputs": [
    {
     "data": {
      "image/png": "[encoded data removed]",
      "text/plain": [
       "<Figure size 1008x576 with 2 Axes>"
      ]
     },
     "metadata": {},
     "output_type": "display_data"
    }
   ],
   "source": [
    "error_test = []\n",
    "error_train = []\n",
    "# Calculamos el rmse sobre el test set\n",
    "for prediccion_test in evals_results['validation_1']['rmse']:\n",
    "    error_test.append(prediccion_test)\n",
    "    \n",
    "for prediccion_train in evals_results['validation_0']['rmse']:    \n",
    "    error_train.append(prediccion_train)\n",
    "    \n",
    "plt.figure(figsize = (14,8))\n",
    "\n",
    "plt.subplot(1,2,1)\n",
    "sns.distplot(error_train, bins = 20, label = 'train')\n",
    "sns.distplot(error_test, bins = 20, label = 'test')\n",
    "plt.xlabel('errores')\n",
    "plt.legend()\n",
    "\n",
    "\n",
    "ax = plt.subplot(1,2,2)\n",
    "ax.scatter(error_test,error_train, s =2)\n",
    "\n",
    "lims = [\n",
    "np.min([ax.get_xlim(), ax.get_ylim()]),  # min of both axes\n",
    "np.max([ax.get_xlim(), ax.get_ylim()]),  # max of both axes]\n",
    "]\n",
    "\n",
    "ax.plot(lims, lims, 'k-', alpha=0.75, zorder=0)\n",
    "plt.xlabel('y (test)')\n",
    "plt.ylabel('y_pred (test)')\n",
    "\n",
    "plt.tight_layout()\n",
    "plt.show()"
   ]
  },
  {
   "cell_type": "code",
   "execution_count": 50,
   "metadata": {
    "colab": {},
    "colab_type": "code",
    "id": "vbmACahUC4O6"
   },
   "outputs": [
    {
     "data": {
      "text/plain": [
       "<matplotlib.axes._subplots.AxesSubplot at 0x2512adb3dc8>"
      ]
     },
     "execution_count": 50,
     "metadata": {},
     "output_type": "execute_result"
    },
    {
     "data": {
      "image/png": "[encoded data removed]",
      "text/plain": [
       "<Figure size 1080x576 with 1 Axes>"
      ]
     },
     "metadata": {},
     "output_type": "display_data"
    }
   ],
   "source": [
    "importances=xgb_cl.feature_importances_\n",
    "columns=X_train.columns\n",
    "indices=np.argsort(importances)[::-1]\n",
    "plt.figure(figsize=(15,8))\n",
    "sns.barplot(columns[indices],importances[indices])"
   ]
  },
  {
   "cell_type": "markdown",
   "metadata": {},
   "source": [
    "#### Analisis Xrgboost: Este modelo a diferencia de los tradicionles utiliza el ensamble de multiples arboles de decision y su desempeño mejora a medida que se agregan mas arboles, reduciendo el RMSE. el optimo de arboles se observa a los 50 arboles donde se encuentra en un minimo el RMSE. Este modelo obtuvo el mejor desempeño. Por otro lado tampoco se observa sobre ajuste debido a que se grafico la disbtribucion de error. Por ultimo es oportuno destacar su parametro r2 ( coeficiente de regresion), el cual es el mayor debido a su mayor precision en los valores predichos."
   ]
  },
  {
   "cell_type": "markdown",
   "metadata": {},
   "source": [
    "### Comparativa arboles vs regresor lineal y polinomico: otra conlusion obtenida es que el arbol de decision le da una mayor importancia a las variables categoricas. por lo cual explica los mejores resultados del modelo xrgboost . esta conclusion se sostiene en la gran importancia que tiene la variable predictora tipo_departamento. esto tambien explica la mayor correlacion de los modelos tipo arbol vs la regresion lineal y polinomica. Esto significa finalmente que que el tipo de propiedad es muy importante a la hora de realizar el analisis y asi tambien la ubicacion del mismo.\n",
    "\n",
    "Otra conclusion que se desprende es que a la hora de realizar predicciones es de suma importancia el analisis de distintos tipos de modelo debido a que la naturaleza de cada modelo es de suma importancia. En este caso los arboles tienen un mejor comportamineto que la regresion lineal y polinomica para este Dataset."
   ]
  },
  {
   "cell_type": "markdown",
   "metadata": {
    "colab_type": "text",
    "id": "bXSMm-aOC4O-"
   },
   "source": [
    "### Comparacion de distribucion de errores y error absoluto de los modelos"
   ]
  },
  {
   "cell_type": "code",
   "execution_count": 51,
   "metadata": {},
   "outputs": [
    {
     "data": {
      "text/plain": [
       "<Figure size 1008x576 with 0 Axes>"
      ]
     },
     "metadata": {},
     "output_type": "display_data"
    },
    {
     "data": {
      "image/png": "[encoded data removed]",
      "text/plain": [
       "<Figure size 576x288 with 2 Axes>"
      ]
     },
     "metadata": {},
     "output_type": "display_data"
    },
    {
     "name": "stdout",
     "output_type": "stream",
     "text": [
      "rmse 75421.4776317615\n",
      "rmse 73342.10537954315\n",
      "r2_score train:  0.7292791545355968\n",
      "r2_score test::  0.7090781536788693\n"
     ]
    },
    {
     "data": {
      "image/png": "[encoded data removed]",
      "text/plain": [
       "<Figure size 576x288 with 2 Axes>"
      ]
     },
     "metadata": {},
     "output_type": "display_data"
    },
    {
     "name": "stdout",
     "output_type": "stream",
     "text": [
      "Raíz del error cuadrático medio en Train: 89651.5035043116\n",
      "Raíz del error cuadrático medio en Test: 90582.11273986746\n"
     ]
    },
    {
     "data": {
      "image/png": "[encoded data removed]",
      "text/plain": [
       "<Figure size 576x288 with 2 Axes>"
      ]
     },
     "metadata": {},
     "output_type": "display_data"
    },
    {
     "name": "stdout",
     "output_type": "stream",
     "text": [
      "rmse test modelo lineal: 99152.66248344361\n",
      "rmse train  modelo lineal: 98221.56156662203\n",
      "r2 modelo lineal: 0.5009886037639355\n"
     ]
    }
   ],
   "source": [
    "\n",
    "import seaborn as sns\n",
    "modelos = ['Regresión lineal=linear_model', 'Regresion polinomica=reg_2', 'xgb_cl']\n",
    "plt.figure(figsize = (14,8))\n",
    "\n",
    "error_test = []\n",
    "error_train = []\n",
    "# Calculamos el rmse sobre el test set\n",
    "for prediccion_test in evals_results['validation_1']['rmse']:\n",
    "    error_test.append(prediccion_test)\n",
    "    \n",
    "for prediccion_train in evals_results['validation_0']['rmse']:    \n",
    "    error_train.append(prediccion_train)\n",
    "    \n",
    "plt.figure(figsize = (8,4))\n",
    "\n",
    "plt.subplot(1,2,1)\n",
    "sns.distplot(error_train, bins = 20, label = 'train')\n",
    "sns.distplot(error_test, bins = 20, label = 'test')\n",
    "plt.xlabel('errores')\n",
    "plt.legend()\n",
    "\n",
    "\n",
    "ax = plt.subplot(1,2,2)\n",
    "ax.scatter(error_test,error_train, s =2)\n",
    "\n",
    "lims = [\n",
    "np.min([ax.get_xlim(), ax.get_ylim()]),  # min of both axes\n",
    "np.max([ax.get_xlim(), ax.get_ylim()]),  # max of both axes]\n",
    "]\n",
    "\n",
    "ax.plot(lims, lims, 'k-', alpha=0.75, zorder=0)\n",
    "plt.xlabel('y (test)')\n",
    "plt.ylabel('y_pred (test)')\n",
    "\n",
    "plt.tight_layout()\n",
    "plt.show()\n",
    "print(\"rmse\",xgb_rmse_test )\n",
    "print(\"rmse\",xgb_rmse_train )\n",
    "print('r2_score train: ',r2_score_train )\n",
    "print('r2_score test:: ', r2_score_test )\n",
    "## modelo polinomico\n",
    "\n",
    "rmse_train_polinomico = np.sqrt(mean_squared_error(y_train, y_train_pred_2))\n",
    "rmse_test_polinomico = np.sqrt(mean_squared_error(y_test, y_test_pred_2))\n",
    "\n",
    "plt.figure(figsize = (8,4))\n",
    "\n",
    "plt.subplot(1,2,1)\n",
    "sns.distplot(y_train - y_train_pred_2, bins = 20, label = 'train')\n",
    "sns.distplot(y_test - y_test_pred_2, bins = 20, label = 'test')\n",
    "plt.xlabel('errores')\n",
    "plt.legend()\n",
    "\n",
    "\n",
    "ax = plt.subplot(1,2,2)\n",
    "ax.scatter(y_test,y_test_pred_2, s =2)\n",
    "\n",
    "lims = [\n",
    "np.min([ax.get_xlim(), ax.get_ylim()]),  # min of both axes\n",
    "np.max([ax.get_xlim(), ax.get_ylim()]),  # max of both axes]\n",
    "]\n",
    "\n",
    "ax.plot(lims, lims, 'k-', alpha=0.75, zorder=0)\n",
    "plt.xlabel('y (test)')\n",
    "plt.ylabel('y_pred (test)')\n",
    "\n",
    "plt.tight_layout()\n",
    "plt.show()\n",
    "print(f'Raíz del error cuadrático medio en Train: {rmse_train_polinomico}')\n",
    "print(f'Raíz del error cuadrático medio en Test: {rmse_test_polinomico}')\n",
    "## modelo lineal \n",
    "\n",
    "plt.figure(figsize = (8,4))\n",
    "\n",
    "plt.subplot(1,2,1)\n",
    "sns.distplot(y_train_1 - y_train_pred_1, bins = 20, label = 'train')\n",
    "sns.distplot(y_test_1 - y_test_pred_1, bins = 20, label = 'test')\n",
    "plt.xlabel('errores')\n",
    "plt.legend()\n",
    "\n",
    "\n",
    "ax = plt.subplot(1,2,2)\n",
    "ax.scatter(y_test_1,y_test_pred_1, s =2)\n",
    "\n",
    "lims = [\n",
    "np.min([ax.get_xlim(), ax.get_ylim()]),  # min of both axes\n",
    "np.max([ax.get_xlim(), ax.get_ylim()]),  # max of both axes]\n",
    "]\n",
    "\n",
    "ax.plot(lims, lims, 'k-', alpha=0.75, zorder=0)\n",
    "plt.xlabel('y (test)')\n",
    "plt.ylabel('y_pred (test)')\n",
    "plt.tight_layout()\n",
    "plt.show()\n",
    "print(\"rmse test modelo lineal:\",rmse_test_modelo_lineal)\n",
    "print(\"rmse train  modelo lineal:\",rmse_train_modelo_lineal)\n",
    "print(\"r2 modelo lineal:\",r2_score_linear_regression)"
   ]
  },
  {
   "cell_type": "markdown",
   "metadata": {},
   "source": [
    "### Conclusion sobre la DISTRIBUCION DE LOS ERORRES\n",
    "##### -en ninguno de los tres modelos elegidos se observa sobreajuste debido a la poca diferencia y distribucion de los errores entre rmse train y test. lo cual significa que la varianza en los 3 modelos es baja, lo que define el mejor modelo es el sesgo que el boosting fue el que obtuvo el mejor sesgo. "
   ]
  },
  {
   "cell_type": "markdown",
   "metadata": {},
   "source": [
    "### Arbol de decision utilizado en proyecto 1, para luego comparar como varia el desempeño debido al preprocesamiento de los datos"
   ]
  },
  {
   "cell_type": "code",
   "execution_count": 81,
   "metadata": {},
   "outputs": [],
   "source": [
    "from sklearn.tree import DecisionTreeRegressor\n",
    "from sklearn import tree"
   ]
  },
  {
   "cell_type": "code",
   "execution_count": 82,
   "metadata": {},
   "outputs": [],
   "source": [
    "predictors = data_filtrado[[\"rooms\",\"surface_total\",\"bathrooms\"]]\n",
    "target = data_filtrado[\"price\"]\n",
    "X = predictors\n",
    "y = target"
   ]
  },
  {
   "cell_type": "markdown",
   "metadata": {},
   "source": [
    "### Para poder analizar la importancia del pre-procesamiento de datos se utilizaron las mismas variables predictoras, la unica pequeña diferencia es en la variable surface_total ya que en el proyecto 1 se utilizo surface_covered pero se considera que no alterara el resultado del analisis debido a la alta correlacion entre dichas variables"
   ]
  },
  {
   "cell_type": "code",
   "execution_count": 83,
   "metadata": {},
   "outputs": [
    {
     "name": "stdout",
     "output_type": "stream",
     "text": [
      "(55619, 3) (55619,) (23838, 3) (23838,)\n"
     ]
    }
   ],
   "source": [
    "#division de muestra en train y test\n",
    "from sklearn.model_selection import train_test_split\n",
    "#X=X.values.reshape(-1,1)\n",
    "X_train, X_test, y_train, y_test = train_test_split(\n",
    "    X, y, test_size=0.30, random_state=42)\n",
    "\n",
    "\n",
    "print(X_train.shape, y_train.shape, X_test.shape, y_test.shape)"
   ]
  },
  {
   "cell_type": "markdown",
   "metadata": {},
   "source": []
  },
  {
   "cell_type": "code",
   "execution_count": 84,
   "metadata": {},
   "outputs": [
    {
     "data": {
      "text/plain": [
       "DecisionTreeRegressor(max_depth=10, random_state=42)"
      ]
     },
     "execution_count": 84,
     "metadata": {},
     "output_type": "execute_result"
    }
   ],
   "source": [
    "#entrenamiento de arbol\n",
    "regtree = DecisionTreeRegressor(max_depth=10, random_state=42)\n",
    "regtree.fit(X_train, y_train)"
   ]
  },
  {
   "cell_type": "markdown",
   "metadata": {},
   "source": [
    "### se decide utilizar una profunidad de 10 para conservar los mismos hiperparametros que el modelo del proyecto 1 a pesar que el grado optimo es de 9 ya que es el resultado de la optimizacion del grid search."
   ]
  },
  {
   "cell_type": "code",
   "execution_count": 85,
   "metadata": {},
   "outputs": [],
   "source": [
    "#prediccion del arbol\n",
    "y_train_pred_arbol = regtree.predict(X_train)\n",
    "y_test_pred_arbol = regtree.predict(X_test)"
   ]
  },
  {
   "cell_type": "code",
   "execution_count": 86,
   "metadata": {},
   "outputs": [
    {
     "name": "stdout",
     "output_type": "stream",
     "text": [
      "rmse test 92265.90879212214\n",
      "rmse train 87072.33828893879\n"
     ]
    }
   ],
   "source": [
    "mse_test = mean_squared_error(y_test, y_test_pred_arbol)\n",
    "mse_train = mean_squared_error(y_train, y_train_pred_arbol)\n",
    "rmse_arbol_train = np.sqrt(mse_train)\n",
    "rmse_arbol_test = np.sqrt(mse_test)\n",
    "print(\"rmse test\",rmse_arbol_test)\n",
    "print(\"rmse train\",rmse_arbol_train)"
   ]
  },
  {
   "cell_type": "code",
   "execution_count": 87,
   "metadata": {},
   "outputs": [],
   "source": [
    "# Definimos las listas vacias para los valores de accuracy deseados\n",
    "lista_accuracy_train = []\n",
    "lista_accuracy_test = []\n",
    "\n",
    "# Definimos la lista de valores de k que vamos a explorar\n",
    "depth = [1,2,3,4,5,6,7,8,9,10,15,20,25,30,35,40,50]\n",
    "\n",
    "# Generamos en loop sobre los distintos valores de k \n",
    "for d in depth:\n",
    "    \n",
    "    # Vamos a repetir el siguiente bloque de código\n",
    "    \n",
    "    # Definir el modelo con el valor de vecinos deseado\n",
    "    regtree =tree.DecisionTreeRegressor(max_depth=d, random_state=0)\n",
    "    \n",
    "    # Entrenar el modelo\n",
    "    regtree.fit(X_train,y_train)\n",
    "    \n",
    "    # Predecir y evaluar sobre el set de entrenamiento\n",
    "    y_train_pred_arbol = regtree.predict(X_train)\n",
    "    mse = mean_squared_error( y_train, y_train_pred_arbol )\n",
    "    test_rmse = np.sqrt(mse)\n",
    "    \n",
    "    # Predecir y evaluar sobre el set de evaluación\n",
    "    y_test_pred_arbol = regtree.predict(X_test)\n",
    "    mse = mean_squared_error(y_test, y_test_pred_arbol)\n",
    "    train_rmse = np.sqrt(mse)\n",
    "    \n",
    "    # Agregar la información a las listas\n",
    "    lista_accuracy_train.append(train_rmse)\n",
    "    lista_accuracy_test.append(test_rmse)"
   ]
  },
  {
   "cell_type": "code",
   "execution_count": 88,
   "metadata": {},
   "outputs": [
    {
     "data": {
      "text/plain": [
       "Text(0.5, 1.0, 'RMSE / Grados de profundidad')"
      ]
     },
     "execution_count": 88,
     "metadata": {},
     "output_type": "execute_result"
    },
    {
     "data": {
      "image/png": "[encoded data removed]",
      "text/plain": [
       "<Figure size 432x288 with 1 Axes>"
      ]
     },
     "metadata": {},
     "output_type": "display_data"
    }
   ],
   "source": [
    "plt.plot(depth,lista_accuracy_test,'o-',label='test')\n",
    "plt.plot(depth,lista_accuracy_train,'o-',label='train' )\n",
    "plt.legend()\n",
    "plt.xlabel('Grado de profundidad')\n",
    "plt.ylabel('RMSE')\n",
    "plt.title('RMSE / Grados de profundidad', size=22)"
   ]
  },
  {
   "cell_type": "code",
   "execution_count": 89,
   "metadata": {},
   "outputs": [
    {
     "data": {
      "image/png": "[encoded data removed]",
      "text/plain": [
       "<Figure size 576x288 with 2 Axes>"
      ]
     },
     "metadata": {},
     "output_type": "display_data"
    }
   ],
   "source": [
    "rmse_train_arbol = np.sqrt(mean_squared_error(y_train, y_train_pred_arbol))\n",
    "rmse_test_arbol = np.sqrt(mean_squared_error(y_test, y_test_pred_arbol))\n",
    "\n",
    "plt.figure(figsize = (8,4))\n",
    "\n",
    "plt.subplot(1,2,1)\n",
    "sns.distplot(y_train - y_train_pred_arbol, bins = 20, label = 'train')\n",
    "sns.distplot(y_test - y_test_pred_arbol, bins = 20, label = 'test')\n",
    "plt.xlabel('errores')\n",
    "plt.legend()\n",
    "\n",
    "\n",
    "ax = plt.subplot(1,2,2)\n",
    "ax.scatter(y_test,y_test_pred_arbol, s =2)\n",
    "\n",
    "lims = [\n",
    "np.min([ax.get_xlim(), ax.get_ylim()]),  # min of both axes\n",
    "np.max([ax.get_xlim(), ax.get_ylim()]),  # max of both axes]\n",
    "]\n",
    "\n",
    "ax.plot(lims, lims, 'k-', alpha=0.75, zorder=0)\n",
    "plt.xlabel('y (test)')\n",
    "plt.ylabel('y_pred (test)')\n",
    "\n",
    "plt.tight_layout()\n",
    "plt.show()\n",
    "\n"
   ]
  },
  {
   "cell_type": "code",
   "execution_count": 90,
   "metadata": {},
   "outputs": [],
   "source": [
    "\n",
    "param_grid = {'max_depth':np.arange(1,10),}"
   ]
  },
  {
   "cell_type": "code",
   "execution_count": 91,
   "metadata": {},
   "outputs": [
    {
     "name": "stdout",
     "output_type": "stream",
     "text": [
      "Mejores parametros: {'max_depth': 9}\n",
      "Mejor Score: 0.5763138435815675\n",
      "\n"
     ]
    },
    {
     "data": {
      "text/html": [
       "<div>\n",
       "<style scoped>\n",
       "    .dataframe tbody tr th:only-of-type {\n",
       "        vertical-align: middle;\n",
       "    }\n",
       "\n",
       "    .dataframe tbody tr th {\n",
       "        vertical-align: top;\n",
       "    }\n",
       "\n",
       "    .dataframe thead th {\n",
       "        text-align: right;\n",
       "    }\n",
       "</style>\n",
       "<table border=\"1\" class=\"dataframe\">\n",
       "  <thead>\n",
       "    <tr style=\"text-align: right;\">\n",
       "      <th></th>\n",
       "      <th>mean_fit_time</th>\n",
       "      <th>std_fit_time</th>\n",
       "      <th>mean_score_time</th>\n",
       "      <th>std_score_time</th>\n",
       "      <th>param_max_depth</th>\n",
       "      <th>params</th>\n",
       "      <th>split0_test_score</th>\n",
       "      <th>split1_test_score</th>\n",
       "      <th>split2_test_score</th>\n",
       "      <th>split3_test_score</th>\n",
       "      <th>split4_test_score</th>\n",
       "      <th>mean_test_score</th>\n",
       "      <th>std_test_score</th>\n",
       "      <th>rank_test_score</th>\n",
       "    </tr>\n",
       "  </thead>\n",
       "  <tbody>\n",
       "    <tr>\n",
       "      <th>0</th>\n",
       "      <td>0.015336</td>\n",
       "      <td>0.004091</td>\n",
       "      <td>0.004802</td>\n",
       "      <td>0.003921</td>\n",
       "      <td>1</td>\n",
       "      <td>{'max_depth': 1}</td>\n",
       "      <td>0.285776</td>\n",
       "      <td>0.304838</td>\n",
       "      <td>0.289496</td>\n",
       "      <td>0.296340</td>\n",
       "      <td>0.280109</td>\n",
       "      <td>0.291312</td>\n",
       "      <td>0.008575</td>\n",
       "      <td>9</td>\n",
       "    </tr>\n",
       "    <tr>\n",
       "      <th>1</th>\n",
       "      <td>0.020794</td>\n",
       "      <td>0.006401</td>\n",
       "      <td>0.003203</td>\n",
       "      <td>0.003923</td>\n",
       "      <td>2</td>\n",
       "      <td>{'max_depth': 2}</td>\n",
       "      <td>0.409935</td>\n",
       "      <td>0.432243</td>\n",
       "      <td>0.399152</td>\n",
       "      <td>0.402397</td>\n",
       "      <td>0.385338</td>\n",
       "      <td>0.405813</td>\n",
       "      <td>0.015433</td>\n",
       "      <td>8</td>\n",
       "    </tr>\n",
       "    <tr>\n",
       "      <th>2</th>\n",
       "      <td>0.022614</td>\n",
       "      <td>0.006067</td>\n",
       "      <td>0.006400</td>\n",
       "      <td>0.003200</td>\n",
       "      <td>3</td>\n",
       "      <td>{'max_depth': 3}</td>\n",
       "      <td>0.478201</td>\n",
       "      <td>0.504647</td>\n",
       "      <td>0.472115</td>\n",
       "      <td>0.475903</td>\n",
       "      <td>0.450030</td>\n",
       "      <td>0.476179</td>\n",
       "      <td>0.017406</td>\n",
       "      <td>7</td>\n",
       "    </tr>\n",
       "    <tr>\n",
       "      <th>3</th>\n",
       "      <td>0.023997</td>\n",
       "      <td>0.005065</td>\n",
       "      <td>0.003200</td>\n",
       "      <td>0.003919</td>\n",
       "      <td>4</td>\n",
       "      <td>{'max_depth': 4}</td>\n",
       "      <td>0.509714</td>\n",
       "      <td>0.543030</td>\n",
       "      <td>0.522923</td>\n",
       "      <td>0.523522</td>\n",
       "      <td>0.481760</td>\n",
       "      <td>0.516190</td>\n",
       "      <td>0.020233</td>\n",
       "      <td>6</td>\n",
       "    </tr>\n",
       "    <tr>\n",
       "      <th>4</th>\n",
       "      <td>0.023934</td>\n",
       "      <td>0.005171</td>\n",
       "      <td>0.003125</td>\n",
       "      <td>0.006250</td>\n",
       "      <td>5</td>\n",
       "      <td>{'max_depth': 5}</td>\n",
       "      <td>0.521014</td>\n",
       "      <td>0.562774</td>\n",
       "      <td>0.543537</td>\n",
       "      <td>0.541571</td>\n",
       "      <td>0.505636</td>\n",
       "      <td>0.534907</td>\n",
       "      <td>0.019724</td>\n",
       "      <td>5</td>\n",
       "    </tr>\n",
       "    <tr>\n",
       "      <th>5</th>\n",
       "      <td>0.022355</td>\n",
       "      <td>0.008278</td>\n",
       "      <td>0.003125</td>\n",
       "      <td>0.006250</td>\n",
       "      <td>6</td>\n",
       "      <td>{'max_depth': 6}</td>\n",
       "      <td>0.522333</td>\n",
       "      <td>0.573538</td>\n",
       "      <td>0.552157</td>\n",
       "      <td>0.555059</td>\n",
       "      <td>0.522079</td>\n",
       "      <td>0.545033</td>\n",
       "      <td>0.020030</td>\n",
       "      <td>4</td>\n",
       "    </tr>\n",
       "    <tr>\n",
       "      <th>6</th>\n",
       "      <td>0.021440</td>\n",
       "      <td>0.006755</td>\n",
       "      <td>0.006245</td>\n",
       "      <td>0.007649</td>\n",
       "      <td>7</td>\n",
       "      <td>{'max_depth': 7}</td>\n",
       "      <td>0.524858</td>\n",
       "      <td>0.586358</td>\n",
       "      <td>0.556173</td>\n",
       "      <td>0.576778</td>\n",
       "      <td>0.536481</td>\n",
       "      <td>0.556130</td>\n",
       "      <td>0.023255</td>\n",
       "      <td>3</td>\n",
       "    </tr>\n",
       "    <tr>\n",
       "      <th>7</th>\n",
       "      <td>0.037902</td>\n",
       "      <td>0.005614</td>\n",
       "      <td>0.003203</td>\n",
       "      <td>0.003923</td>\n",
       "      <td>8</td>\n",
       "      <td>{'max_depth': 8}</td>\n",
       "      <td>0.530830</td>\n",
       "      <td>0.607436</td>\n",
       "      <td>0.563035</td>\n",
       "      <td>0.591031</td>\n",
       "      <td>0.546453</td>\n",
       "      <td>0.567757</td>\n",
       "      <td>0.028128</td>\n",
       "      <td>2</td>\n",
       "    </tr>\n",
       "    <tr>\n",
       "      <th>8</th>\n",
       "      <td>0.035958</td>\n",
       "      <td>0.006566</td>\n",
       "      <td>0.001600</td>\n",
       "      <td>0.003199</td>\n",
       "      <td>9</td>\n",
       "      <td>{'max_depth': 9}</td>\n",
       "      <td>0.536750</td>\n",
       "      <td>0.616702</td>\n",
       "      <td>0.571783</td>\n",
       "      <td>0.602912</td>\n",
       "      <td>0.553422</td>\n",
       "      <td>0.576314</td>\n",
       "      <td>0.029828</td>\n",
       "      <td>1</td>\n",
       "    </tr>\n",
       "  </tbody>\n",
       "</table>\n",
       "</div>"
      ],
      "text/plain": [
       "   mean_fit_time  std_fit_time  mean_score_time  std_score_time  \\\n",
       "0       0.015336      0.004091         0.004802        0.003921   \n",
       "1       0.020794      0.006401         0.003203        0.003923   \n",
       "2       0.022614      0.006067         0.006400        0.003200   \n",
       "3       0.023997      0.005065         0.003200        0.003919   \n",
       "4       0.023934      0.005171         0.003125        0.006250   \n",
       "5       0.022355      0.008278         0.003125        0.006250   \n",
       "6       0.021440      0.006755         0.006245        0.007649   \n",
       "7       0.037902      0.005614         0.003203        0.003923   \n",
       "8       0.035958      0.006566         0.001600        0.003199   \n",
       "\n",
       "  param_max_depth            params  split0_test_score  split1_test_score  \\\n",
       "0               1  {'max_depth': 1}           0.285776           0.304838   \n",
       "1               2  {'max_depth': 2}           0.409935           0.432243   \n",
       "2               3  {'max_depth': 3}           0.478201           0.504647   \n",
       "3               4  {'max_depth': 4}           0.509714           0.543030   \n",
       "4               5  {'max_depth': 5}           0.521014           0.562774   \n",
       "5               6  {'max_depth': 6}           0.522333           0.573538   \n",
       "6               7  {'max_depth': 7}           0.524858           0.586358   \n",
       "7               8  {'max_depth': 8}           0.530830           0.607436   \n",
       "8               9  {'max_depth': 9}           0.536750           0.616702   \n",
       "\n",
       "   split2_test_score  split3_test_score  split4_test_score  mean_test_score  \\\n",
       "0           0.289496           0.296340           0.280109         0.291312   \n",
       "1           0.399152           0.402397           0.385338         0.405813   \n",
       "2           0.472115           0.475903           0.450030         0.476179   \n",
       "3           0.522923           0.523522           0.481760         0.516190   \n",
       "4           0.543537           0.541571           0.505636         0.534907   \n",
       "5           0.552157           0.555059           0.522079         0.545033   \n",
       "6           0.556173           0.576778           0.536481         0.556130   \n",
       "7           0.563035           0.591031           0.546453         0.567757   \n",
       "8           0.571783           0.602912           0.553422         0.576314   \n",
       "\n",
       "   std_test_score  rank_test_score  \n",
       "0        0.008575                9  \n",
       "1        0.015433                8  \n",
       "2        0.017406                7  \n",
       "3        0.020233                6  \n",
       "4        0.019724                5  \n",
       "5        0.020030                4  \n",
       "6        0.023255                3  \n",
       "7        0.028128                2  \n",
       "8        0.029828                1  "
      ]
     },
     "execution_count": 91,
     "metadata": {},
     "output_type": "execute_result"
    }
   ],
   "source": [
    "\n",
    "model2 = GridSearchCV(regtree, param_grid=param_grid, cv=5)\n",
    "model2.fit(X_train_arbol, y_train_arbol)\n",
    "print(\"Mejores parametros: \"+str(model2.best_params_))\n",
    "print(\"Mejor Score: \"+str(model2.best_score_)+'\\n')\n",
    "scores = pd.DataFrame(model2.cv_results_)\n",
    "scores\n"
   ]
  },
  {
   "cell_type": "markdown",
   "metadata": {},
   "source": [
    "### Analisis arbol de Regresion : debido al pre-procesamiento de las variables predictoras se observa un mejor desempeño del arbol, debido a que el Rmse_test Obtenido en el proyecto 1 fue de 155000 y en este proyecto se obtuvo un rmse_TEST de 92746. lo cual se produjo un descenso del 60% del error del modelo. concluyendo una clara mejora debido al pre-procesamiento de las variables predictoras. esto se debe a la cantidad de valores atipicos que tiene el dataset properati lo cual le intrudce un significante error al modelo y otra conclusion es que la imputacion de los valores faltantes utilizando el promedio es un metodo correcto para este dataset.\n",
    "\n",
    "En cuanto al sobre ajuste, tambien se redujo lo cual tambien se debe al pre procesamiento de los datos.\n",
    "\n",
    "Por otro lado se utilizo la optimizacion de del arbol mediante la tecnica de grid search.se decidio trabajar con el hiperparametro grado de profundidad debido a que lo considero de mayor importancia en este modelo. el grado de profundidad optimo es de 9. Este resultado es coherente debido a que si se observa el grafico grados de profundidad vs Rmse. Se observa que el grado de profunidad optimo es de 9 ya que es donde se miminiza el Rmse de test y  no hay riesdo de sobre ajuste debido a la poca distancia entre test y train, es decir menor sesgo y varianza.\n"
   ]
  },
  {
   "cell_type": "markdown",
   "metadata": {},
   "source": [
    "### resumen de metricas de los modelos y conclusion"
   ]
  },
  {
   "cell_type": "code",
   "execution_count": 78,
   "metadata": {},
   "outputs": [
    {
     "name": "stdout",
     "output_type": "stream",
     "text": [
      "rmse 75421.4776317615\n",
      "rmse 73342.10537954315\n",
      "Raíz del error cuadrático medio en Train: 89651.5035043116\n",
      "Raíz del error cuadrático medio en Test: 90582.11273986746\n",
      "rmse test modelo lineal: 99152.66248344361\n",
      "rmse train  modelo lineal: 98221.56156662203\n",
      "rmse test 92746.00844174591\n",
      "rmse train 88483.0366272565\n"
     ]
    }
   ],
   "source": [
    "print(\"rmse\",xgb_rmse_test )\n",
    "print(\"rmse\",xgb_rmse_train )\n",
    "print(f'Raíz del error cuadrático medio en Train: {rmse_train_polinomico}')\n",
    "print(f'Raíz del error cuadrático medio en Test: {rmse_test_polinomico}')\n",
    "print(\"rmse test modelo lineal:\",rmse_test_modelo_lineal)\n",
    "print(\"rmse train  modelo lineal:\",rmse_train_modelo_lineal)\n",
    "print(\"rmse test\",rmse_arbol_test)\n",
    "print(\"rmse train\",rmse_arbol_train)"
   ]
  },
  {
   "cell_type": "code",
   "execution_count": 79,
   "metadata": {},
   "outputs": [
    {
     "data": {
      "text/html": [
       "<div>\n",
       "<style scoped>\n",
       "    .dataframe tbody tr th:only-of-type {\n",
       "        vertical-align: middle;\n",
       "    }\n",
       "\n",
       "    .dataframe tbody tr th {\n",
       "        vertical-align: top;\n",
       "    }\n",
       "\n",
       "    .dataframe thead th {\n",
       "        text-align: right;\n",
       "    }\n",
       "</style>\n",
       "<table border=\"1\" class=\"dataframe\">\n",
       "  <thead>\n",
       "    <tr style=\"text-align: right;\">\n",
       "      <th></th>\n",
       "      <th>modelo</th>\n",
       "      <th>Rmse_Train</th>\n",
       "      <th>Rmse_test</th>\n",
       "    </tr>\n",
       "  </thead>\n",
       "  <tbody>\n",
       "    <tr>\n",
       "      <th>0</th>\n",
       "      <td>Modelo Lineal</td>\n",
       "      <td>98221.561567</td>\n",
       "      <td>99152.662483</td>\n",
       "    </tr>\n",
       "    <tr>\n",
       "      <th>1</th>\n",
       "      <td>Modelo Polinomico</td>\n",
       "      <td>89651.503504</td>\n",
       "      <td>90582.112740</td>\n",
       "    </tr>\n",
       "    <tr>\n",
       "      <th>2</th>\n",
       "      <td>Xgboost</td>\n",
       "      <td>73342.105380</td>\n",
       "      <td>75421.477632</td>\n",
       "    </tr>\n",
       "    <tr>\n",
       "      <th>3</th>\n",
       "      <td>Arbol de Decision</td>\n",
       "      <td>88483.036627</td>\n",
       "      <td>92746.008442</td>\n",
       "    </tr>\n",
       "  </tbody>\n",
       "</table>\n",
       "</div>"
      ],
      "text/plain": [
       "              modelo    Rmse_Train     Rmse_test\n",
       "0      Modelo Lineal  98221.561567  99152.662483\n",
       "1  Modelo Polinomico  89651.503504  90582.112740\n",
       "2            Xgboost  73342.105380  75421.477632\n",
       "3  Arbol de Decision  88483.036627  92746.008442"
      ]
     },
     "execution_count": 79,
     "metadata": {},
     "output_type": "execute_result"
    }
   ],
   "source": [
    "resultados = {'modelo':['Modelo Lineal', 'Modelo Polinomico', 'Xgboost', 'Arbol de Decision'], 'Rmse_Train':[rmse_train_modelo_lineal,rmse_train_polinomico,xgb_rmse_train,rmse_arbol_train], \"Rmse_test\":[rmse_test_modelo_lineal,rmse_test_polinomico,xgb_rmse_test,rmse_arbol_test]}\n",
    "resultados=pd.DataFrame(resultados)\n",
    "resultados"
   ]
  },
  {
   "cell_type": "code",
   "execution_count": 80,
   "metadata": {},
   "outputs": [
    {
     "data": {
      "text/plain": [
       "<matplotlib.axes._subplots.AxesSubplot at 0x2512aa6ff88>"
      ]
     },
     "execution_count": 80,
     "metadata": {},
     "output_type": "execute_result"
    },
    {
     "data": {
      "image/png": "[encoded data removed]",
      "text/plain": [
       "<Figure size 1152x576 with 1 Axes>"
      ]
     },
     "metadata": {},
     "output_type": "display_data"
    }
   ],
   "source": [
    "plt.figure(figsize = (16,8))\n",
    "descending_order=resultados[\"modelo\"].sort_values(ascending=False)\n",
    "sns.barplot(x=\"modelo\", y=\"Rmse_test\",hue=\"Rmse_Train\", data=resultados, order=descending_order)"
   ]
  },
  {
   "cell_type": "markdown",
   "metadata": {},
   "source": [
    "### Conclusiones Finales\n",
    "\n",
    "#### Sobre Pre-Procesamiento de Datos e incorporacion de nuevos atributos:\n",
    "\n",
    "-El Preprosamiento de los datos Y incorporacion de variables categoricas, lo cual se compone de eliminacion de outliers, inclusion de variables categoricas(variable ubicacion y tipo de propiedad) e imputacion de valores faltantes, redujo notablemente los errores de los modelos. se puede comprobar comparando los modelos benchmark de los dos proyectos 1 y 2. En el proyecto 2 se redujo el Rmse del modelo benchmark(modelo lineal) en una relacion superior al 100%.\n",
    "Las razones que justican la disminucion de los errores de los modelos, se debe claramente al pre-procesamiento de datos ya que eliminar outliers e imputacion de valores faltantes mejoran la correlacion de las variables predictoras. incorporar variables categoricas es otro factor importante que disminuyo el error ya que existe una relacion entre el precio de las propiedades, la ubicacion y el tipo de propiedad.\n",
    "\n",
    "#### Sobre los modelos utilizados:\n",
    "\n",
    "-Modelos avanzados: se observa el comportamiento esperado en los modelos ya que a medida que mas sofisticado es el modelo menor es el RMSE, obteniendo el mejor desempeño el modelo de boosting debido a que utiliza multiples arboles de decision.\n",
    "En cuanto a la distribucion de errores se concluye que ningun modelo corre el riesgo de sobre ajuste debido a que tienen comportamientos similares la distribucion de train y test, lo cual quiere decir que la varianza de los modelos son bajos (con los hiperparametros elegidos).\n",
    "\n",
    "Por otro lado se realizo la comparacion del desempeño del modelo 1 con el mismo modelo en el proyecto 2 pero realizando el preprocesamiento de los datos, se observa una mejora significativa de un 60% esto se debe a la importancia de eliminar outliers y imputar valores faltantes con criterio.\n",
    "\n",
    "### COMPARACION ARBOLES DE REGRESION VS REGRESION LINEAL Y VARIABLES POLINOMICAS\n",
    "\n",
    "-En el modelo de boosting se reflejo la importancia que la da el modelo a las variables, donde se destaca que le da mayor importancia al tipo de propiedad y la ubicacion de las propiedades. Lo cual tiene como consecuencia un mejor desempeño, lo cual explica el mejor coeficiente de regresion y menor RMSE. Esto se debe a que es un modelo mas sofisticado y se reflejo en la gran disminucion del RMSE y resulto ser el mejor modelo.\n",
    "\n",
    "\n"
   ]
  },
  {
   "cell_type": "code",
   "execution_count": null,
   "metadata": {},
   "outputs": [],
   "source": []
  },
  {
   "cell_type": "code",
   "execution_count": null,
   "metadata": {},
   "outputs": [],
   "source": []
  },
  {
   "cell_type": "code",
   "execution_count": null,
   "metadata": {},
   "outputs": [],
   "source": []
  },
  {
   "cell_type": "markdown",
   "metadata": {},
   "source": []
  },
  {
   "cell_type": "code",
   "execution_count": null,
   "metadata": {},
   "outputs": [],
   "source": []
  },
  {
   "cell_type": "code",
   "execution_count": null,
   "metadata": {},
   "outputs": [],
   "source": []
  },
  {
   "cell_type": "code",
   "execution_count": null,
   "metadata": {},
   "outputs": [],
   "source": []
  },
  {
   "cell_type": "code",
   "execution_count": null,
   "metadata": {},
   "outputs": [],
   "source": []
  },
  {
   "cell_type": "markdown",
   "metadata": {},
   "source": []
  },
  {
   "cell_type": "code",
   "execution_count": null,
   "metadata": {
    "colab": {},
    "colab_type": "code",
    "id": "jDQy8tzfC4PA"
   },
   "outputs": [],
   "source": []
  },
  {
   "cell_type": "markdown",
   "metadata": {},
   "source": []
  },
  {
   "cell_type": "markdown",
   "metadata": {},
   "source": []
  },
  {
   "cell_type": "code",
   "execution_count": null,
   "metadata": {},
   "outputs": [],
   "source": []
  },
  {
   "cell_type": "markdown",
   "metadata": {},
   "source": []
  },
  {
   "cell_type": "code",
   "execution_count": null,
   "metadata": {},
   "outputs": [],
   "source": []
  },
  {
   "cell_type": "markdown",
   "metadata": {},
   "source": []
  },
  {
   "cell_type": "code",
   "execution_count": null,
   "metadata": {},
   "outputs": [],
   "source": []
  },
  {
   "cell_type": "markdown",
   "metadata": {},
   "source": []
  },
  {
   "cell_type": "markdown",
   "metadata": {
    "colab_type": "text",
    "id": "B2EMvGFoC4PF"
   },
   "source": []
  },
  {
   "cell_type": "markdown",
   "metadata": {},
   "source": []
  },
  {
   "cell_type": "code",
   "execution_count": null,
   "metadata": {
    "colab": {},
    "colab_type": "code",
    "id": "4DJ-aGD-C4PG"
   },
   "outputs": [],
   "source": []
  },
  {
   "cell_type": "markdown",
   "metadata": {},
   "source": []
  },
  {
   "cell_type": "code",
   "execution_count": null,
   "metadata": {},
   "outputs": [],
   "source": []
  },
  {
   "cell_type": "markdown",
   "metadata": {},
   "source": []
  },
  {
   "cell_type": "code",
   "execution_count": null,
   "metadata": {},
   "outputs": [],
   "source": []
  },
  {
   "cell_type": "markdown",
   "metadata": {},
   "source": []
  },
  {
   "cell_type": "code",
   "execution_count": null,
   "metadata": {},
   "outputs": [],
   "source": []
  },
  {
   "cell_type": "markdown",
   "metadata": {},
   "source": [
    "\n"
   ]
  },
  {
   "cell_type": "markdown",
   "metadata": {},
   "source": []
  },
  {
   "cell_type": "markdown",
   "metadata": {},
   "source": []
  },
  {
   "cell_type": "code",
   "execution_count": null,
   "metadata": {},
   "outputs": [],
   "source": []
  },
  {
   "cell_type": "code",
   "execution_count": null,
   "metadata": {},
   "outputs": [],
   "source": []
  },
  {
   "cell_type": "markdown",
   "metadata": {},
   "source": []
  },
  {
   "cell_type": "code",
   "execution_count": null,
   "metadata": {},
   "outputs": [],
   "source": []
  },
  {
   "cell_type": "markdown",
   "metadata": {},
   "source": []
  },
  {
   "cell_type": "markdown",
   "metadata": {
    "colab_type": "text",
    "id": "AUBaOrNYC4PK"
   },
   "source": []
  },
  {
   "cell_type": "markdown",
   "metadata": {},
   "source": []
  },
  {
   "cell_type": "code",
   "execution_count": null,
   "metadata": {
    "colab": {},
    "colab_type": "code",
    "id": "CJ_DINqMC4PM"
   },
   "outputs": [],
   "source": []
  },
  {
   "cell_type": "code",
   "execution_count": null,
   "metadata": {},
   "outputs": [],
   "source": [
    "\n"
   ]
  },
  {
   "cell_type": "code",
   "execution_count": null,
   "metadata": {},
   "outputs": [],
   "source": []
  },
  {
   "cell_type": "markdown",
   "metadata": {},
   "source": []
  },
  {
   "cell_type": "markdown",
   "metadata": {
    "colab_type": "text",
    "id": "ULhoMAo_C4PP"
   },
   "source": []
  },
  {
   "cell_type": "markdown",
   "metadata": {},
   "source": []
  },
  {
   "cell_type": "code",
   "execution_count": null,
   "metadata": {
    "colab": {},
    "colab_type": "code",
    "id": "QSqa1vJQC4PR"
   },
   "outputs": [],
   "source": []
  },
  {
   "cell_type": "code",
   "execution_count": null,
   "metadata": {},
   "outputs": [],
   "source": []
  },
  {
   "cell_type": "code",
   "execution_count": null,
   "metadata": {},
   "outputs": [],
   "source": []
  },
  {
   "cell_type": "code",
   "execution_count": null,
   "metadata": {},
   "outputs": [],
   "source": []
  },
  {
   "cell_type": "code",
   "execution_count": null,
   "metadata": {},
   "outputs": [],
   "source": []
  },
  {
   "cell_type": "code",
   "execution_count": null,
   "metadata": {},
   "outputs": [],
   "source": []
  },
  {
   "cell_type": "code",
   "execution_count": null,
   "metadata": {},
   "outputs": [],
   "source": []
  },
  {
   "cell_type": "code",
   "execution_count": null,
   "metadata": {},
   "outputs": [],
   "source": []
  },
  {
   "cell_type": "code",
   "execution_count": null,
   "metadata": {},
   "outputs": [],
   "source": []
  },
  {
   "cell_type": "code",
   "execution_count": null,
   "metadata": {},
   "outputs": [],
   "source": []
  },
  {
   "cell_type": "code",
   "execution_count": null,
   "metadata": {},
   "outputs": [],
   "source": [
    "\n"
   ]
  },
  {
   "cell_type": "code",
   "execution_count": null,
   "metadata": {},
   "outputs": [],
   "source": []
  },
  {
   "cell_type": "code",
   "execution_count": null,
   "metadata": {},
   "outputs": [],
   "source": []
  },
  {
   "cell_type": "code",
   "execution_count": null,
   "metadata": {},
   "outputs": [],
   "source": []
  },
  {
   "cell_type": "code",
   "execution_count": null,
   "metadata": {},
   "outputs": [],
   "source": []
  },
  {
   "cell_type": "code",
   "execution_count": null,
   "metadata": {},
   "outputs": [],
   "source": []
  },
  {
   "cell_type": "code",
   "execution_count": null,
   "metadata": {},
   "outputs": [],
   "source": []
  },
  {
   "cell_type": "code",
   "execution_count": null,
   "metadata": {},
   "outputs": [],
   "source": []
  },
  {
   "cell_type": "code",
   "execution_count": 273,
   "metadata": {},
   "outputs": [],
   "source": []
  },
  {
   "cell_type": "code",
   "execution_count": null,
   "metadata": {},
   "outputs": [],
   "source": []
  },
  {
   "cell_type": "code",
   "execution_count": null,
   "metadata": {},
   "outputs": [],
   "source": []
  },
  {
   "cell_type": "code",
   "execution_count": null,
   "metadata": {},
   "outputs": [],
   "source": []
  },
  {
   "cell_type": "code",
   "execution_count": null,
   "metadata": {},
   "outputs": [],
   "source": [
    "\n"
   ]
  },
  {
   "cell_type": "code",
   "execution_count": null,
   "metadata": {},
   "outputs": [],
   "source": []
  },
  {
   "cell_type": "code",
   "execution_count": null,
   "metadata": {},
   "outputs": [],
   "source": []
  },
  {
   "cell_type": "code",
   "execution_count": null,
   "metadata": {},
   "outputs": [],
   "source": []
  },
  {
   "cell_type": "code",
   "execution_count": null,
   "metadata": {},
   "outputs": [],
   "source": []
  },
  {
   "cell_type": "code",
   "execution_count": null,
   "metadata": {},
   "outputs": [],
   "source": []
  },
  {
   "cell_type": "code",
   "execution_count": null,
   "metadata": {},
   "outputs": [],
   "source": []
  },
  {
   "cell_type": "code",
   "execution_count": null,
   "metadata": {},
   "outputs": [],
   "source": []
  },
  {
   "cell_type": "code",
   "execution_count": null,
   "metadata": {},
   "outputs": [],
   "source": []
  },
  {
   "cell_type": "code",
   "execution_count": null,
   "metadata": {},
   "outputs": [],
   "source": []
  },
  {
   "cell_type": "code",
   "execution_count": null,
   "metadata": {},
   "outputs": [],
   "source": []
  },
  {
   "cell_type": "code",
   "execution_count": null,
   "metadata": {},
   "outputs": [],
   "source": []
  },
  {
   "cell_type": "code",
   "execution_count": null,
   "metadata": {},
   "outputs": [],
   "source": []
  },
  {
   "cell_type": "code",
   "execution_count": null,
   "metadata": {},
   "outputs": [],
   "source": []
  },
  {
   "cell_type": "code",
   "execution_count": null,
   "metadata": {},
   "outputs": [],
   "source": []
  },
  {
   "cell_type": "code",
   "execution_count": null,
   "metadata": {},
   "outputs": [],
   "source": []
  },
  {
   "cell_type": "markdown",
   "metadata": {},
   "source": [
    "\n",
    "\n",
    "\n",
    "\n"
   ]
  },
  {
   "cell_type": "code",
   "execution_count": null,
   "metadata": {},
   "outputs": [],
   "source": [
    "\n"
   ]
  },
  {
   "cell_type": "markdown",
   "metadata": {},
   "source": [
    "\n"
   ]
  },
  {
   "cell_type": "markdown",
   "metadata": {},
   "source": [
    "\n",
    "\n",
    "\n"
   ]
  },
  {
   "cell_type": "code",
   "execution_count": null,
   "metadata": {},
   "outputs": [],
   "source": []
  },
  {
   "cell_type": "code",
   "execution_count": null,
   "metadata": {},
   "outputs": [],
   "source": []
  },
  {
   "cell_type": "code",
   "execution_count": null,
   "metadata": {},
   "outputs": [],
   "source": []
  }
 ],
 "metadata": {
  "colab": {
   "collapsed_sections": [],
   "name": "DS_Proyecto_01.ipynb",
   "provenance": []
  },
  "kernelspec": {
   "display_name": "Python 3",
   "language": "python",
   "name": "python3"
  },
  "language_info": {
   "codemirror_mode": {
    "name": "ipython",
    "version": 3
   },
   "file_extension": ".py",
   "mimetype": "text/x-python",
   "name": "python",
   "nbconvert_exporter": "python",
   "pygments_lexer": "ipython3",
   "version": "3.7.7"
  }
 },
 "nbformat": 4,
 "nbformat_minor": 4
}
